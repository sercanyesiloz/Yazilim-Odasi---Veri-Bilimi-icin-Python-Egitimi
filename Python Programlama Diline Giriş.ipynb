{
 "cells": [
  {
   "cell_type": "markdown",
   "id": "de50a54d",
   "metadata": {},
   "source": [
    "# Python Programlama Diline Giriş\n",
    "\n",
    "## 1. Python Nedir?\n",
    "\n",
    "Python **1991** yılında **Guido Van Rossum** tarafından geliştirilen bir high-level programlama dilidir. Gerek kod yazarken tanıdığı özgürlük gerekse kolay **syntax**’i (sözdizimi) sayesinde, günümüzde en popüler programlama dilleri arasında yer alan Python gün geçtikçe daha da popülerleşmektedir.\n",
    "\n",
    "## 2. Neden Python?\n",
    "\n",
    "- Öğrenmesi ve kullanımı kolaydır.\n",
    "- Syntax’ı oldukça rahat ve esnetilebilir olarak kullanabiliriz.\n",
    "- Çok fazla kütüphanesi vardır ve yapacağınız çoğu işte bu kütüphaneler oldukça yararlı olacaktır.\n",
    "- Dökümantasyonu oldukça fazladır.\n",
    "- Birbirinden farklı ve kulanışlı IDE’lere (yazılım geliştirme ortamı) sahiptir.\n",
    "- Windows, GNU/Linux, MacOS, Symbian gibi çok fazla işletim sistemi ile birlikte çalışabilmektedir.\n",
    "- İş imkanları oldukça geniştir.\n",
    "- Tamamen ücretsiz ve açık kaynaktır."
   ]
  },
  {
   "cell_type": "markdown",
   "id": "ca0d8566",
   "metadata": {},
   "source": [
    "## 3. Python Programlama Diline Giriş\n",
    "\n",
    "## 3.1. Veri Yapıları\n",
    "\n",
    "Python programlama dilinde **string**, **float**, **integer**, **boolean** olmak üzere 4 temel veri tipi mevcuttur. **Integer** tipindeki verileri sayısal değerler, **float** tipindeki veriler ondalıklı sayısal değerler ve **string** tipindeki veriler ise metinsel ifadelerdir."
   ]
  },
  {
   "cell_type": "code",
   "execution_count": 1,
   "id": "960282aa",
   "metadata": {},
   "outputs": [
    {
     "data": {
      "text/plain": [
       "3"
      ]
     },
     "execution_count": 1,
     "metadata": {},
     "output_type": "execute_result"
    }
   ],
   "source": [
    "#Integer\n",
    "a = 3\n",
    "\n",
    "a"
   ]
  },
  {
   "cell_type": "code",
   "execution_count": 2,
   "id": "47d8449a",
   "metadata": {},
   "outputs": [
    {
     "name": "stdout",
     "output_type": "stream",
     "text": [
      "4.5\n"
     ]
    }
   ],
   "source": [
    "#Float\n",
    "b = 4.5\n",
    "\n",
    "print(b)"
   ]
  },
  {
   "cell_type": "code",
   "execution_count": 3,
   "id": "1904bf25",
   "metadata": {},
   "outputs": [
    {
     "name": "stdout",
     "output_type": "stream",
     "text": [
      "Sercan\n"
     ]
    }
   ],
   "source": [
    "#String\n",
    "c = 'Sercan'\n",
    "\n",
    "print(c)"
   ]
  },
  {
   "cell_type": "code",
   "execution_count": 4,
   "id": "6120205e",
   "metadata": {},
   "outputs": [
    {
     "data": {
      "text/plain": [
       "'Sercan'"
      ]
     },
     "execution_count": 4,
     "metadata": {},
     "output_type": "execute_result"
    }
   ],
   "source": [
    "\"Sercan\""
   ]
  },
  {
   "cell_type": "code",
   "execution_count": 5,
   "id": "c57278b0",
   "metadata": {},
   "outputs": [
    {
     "ename": "SyntaxError",
     "evalue": "EOL while scanning string literal (3659465345.py, line 1)",
     "output_type": "error",
     "traceback": [
      "\u001b[0;36m  File \u001b[0;32m\"/var/folders/67/wq_xsymd3jvc5w2fx1ld_18h0000gn/T/ipykernel_98043/3659465345.py\"\u001b[0;36m, line \u001b[0;32m1\u001b[0m\n\u001b[0;31m    \"Sercan'\u001b[0m\n\u001b[0m            ^\u001b[0m\n\u001b[0;31mSyntaxError\u001b[0m\u001b[0;31m:\u001b[0m EOL while scanning string literal\n"
     ]
    }
   ],
   "source": [
    "\"Sercan'"
   ]
  },
  {
   "cell_type": "markdown",
   "id": "a3c13b16",
   "metadata": {},
   "source": [
    "## 3.2. Sayısal İşlemler"
   ]
  },
  {
   "cell_type": "code",
   "execution_count": 6,
   "id": "912713de",
   "metadata": {},
   "outputs": [],
   "source": [
    "a = 3\n",
    "b = 4"
   ]
  },
  {
   "cell_type": "code",
   "execution_count": 7,
   "id": "d363d0e3",
   "metadata": {},
   "outputs": [
    {
     "data": {
      "text/plain": [
       "7"
      ]
     },
     "execution_count": 7,
     "metadata": {},
     "output_type": "execute_result"
    }
   ],
   "source": [
    "#Toplama\n",
    "a + b"
   ]
  },
  {
   "cell_type": "code",
   "execution_count": 8,
   "id": "74600fac",
   "metadata": {},
   "outputs": [
    {
     "data": {
      "text/plain": [
       "-1"
      ]
     },
     "execution_count": 8,
     "metadata": {},
     "output_type": "execute_result"
    }
   ],
   "source": [
    "#Çıkarma\n",
    "a - b"
   ]
  },
  {
   "cell_type": "code",
   "execution_count": 9,
   "id": "5c93e5ac",
   "metadata": {},
   "outputs": [
    {
     "data": {
      "text/plain": [
       "0.75"
      ]
     },
     "execution_count": 9,
     "metadata": {},
     "output_type": "execute_result"
    }
   ],
   "source": [
    "#Bölme\n",
    "a / b"
   ]
  },
  {
   "cell_type": "code",
   "execution_count": 10,
   "id": "b69e54a4",
   "metadata": {},
   "outputs": [
    {
     "data": {
      "text/plain": [
       "12"
      ]
     },
     "execution_count": 10,
     "metadata": {},
     "output_type": "execute_result"
    }
   ],
   "source": [
    "#Çarpma\n",
    "a * b"
   ]
  },
  {
   "cell_type": "code",
   "execution_count": 11,
   "id": "08b08042",
   "metadata": {},
   "outputs": [
    {
     "data": {
      "text/plain": [
       "1"
      ]
     },
     "execution_count": 11,
     "metadata": {},
     "output_type": "execute_result"
    }
   ],
   "source": [
    "#Bölümünden Kalan\n",
    "b % a"
   ]
  },
  {
   "cell_type": "code",
   "execution_count": 12,
   "id": "04bcb772",
   "metadata": {},
   "outputs": [
    {
     "data": {
      "text/plain": [
       "13.5"
      ]
     },
     "execution_count": 12,
     "metadata": {},
     "output_type": "execute_result"
    }
   ],
   "source": [
    "#Integer değerler ve float değerler birlikte kullanılabilir\n",
    "a = 3\n",
    "\n",
    "b = 4.5\n",
    "\n",
    "a*b"
   ]
  },
  {
   "cell_type": "code",
   "execution_count": 13,
   "id": "449a9bef",
   "metadata": {},
   "outputs": [
    {
     "data": {
      "text/plain": [
       "24.75"
      ]
     },
     "execution_count": 13,
     "metadata": {},
     "output_type": "execute_result"
    }
   ],
   "source": [
    "a = 5.5\n",
    "\n",
    "b = 4.5\n",
    "\n",
    "a*b"
   ]
  },
  {
   "cell_type": "markdown",
   "id": "e9f106fb",
   "metadata": {},
   "source": [
    "## 3.3. Metinsel İşlemler\n",
    "Python programlama dilinde bir metni düzenlemek amacıyla varsayılan olarak bulunan pek çok fonksiyon mevcuttur.\n",
    "\n",
    "\n",
    "- **upper**: Metnin tamamını büyük harfe çevirir.\n",
    "- **lower**: Metnin tamaını küçük harfe çevirir.\n",
    "- **title**: Metni ilk harf büyük, kalan harfle küçük olacak şekilde düzenler.\n",
    "- **split**: Metni belirtilen ifadeye göre (herhangi bir ifade belirtilmezse boşluklar bazında) parçalar.\n",
    "- **strip**: Metnin başındaki ve sonundaki belirtilen ifadeleri (belirtilmezse boşlukları) temizler.\n",
    "- **lstrip**: Metnin başındaki belirtilen ifadeleri (belirtilmezse boşlukları) temizler.\n",
    "- **rstrip**: Metnin sonundaki belirtilen ifadeleri (belirtilmezse boşlukları) temizler."
   ]
  },
  {
   "cell_type": "code",
   "execution_count": 14,
   "id": "7abb338a",
   "metadata": {},
   "outputs": [],
   "source": [
    "#Birer string ifade oluşturalım\n",
    "a = 'Sercan'\n",
    "b = 'Yeşilöz'"
   ]
  },
  {
   "cell_type": "code",
   "execution_count": 15,
   "id": "b2d22d79",
   "metadata": {},
   "outputs": [
    {
     "name": "stdout",
     "output_type": "stream",
     "text": [
      "Sercan\n"
     ]
    }
   ],
   "source": [
    "print(a)"
   ]
  },
  {
   "cell_type": "code",
   "execution_count": 16,
   "id": "328462be",
   "metadata": {},
   "outputs": [
    {
     "name": "stdout",
     "output_type": "stream",
     "text": [
      "Yeşilöz\n"
     ]
    }
   ],
   "source": [
    "print(b)"
   ]
  },
  {
   "cell_type": "code",
   "execution_count": 17,
   "id": "6223026d",
   "metadata": {},
   "outputs": [
    {
     "data": {
      "text/plain": [
       "'SERCAN'"
      ]
     },
     "execution_count": 17,
     "metadata": {},
     "output_type": "execute_result"
    }
   ],
   "source": [
    "#Büyük Harf\n",
    "a.upper()"
   ]
  },
  {
   "cell_type": "code",
   "execution_count": 18,
   "id": "d4b76c9e",
   "metadata": {},
   "outputs": [
    {
     "data": {
      "text/plain": [
       "'sercan'"
      ]
     },
     "execution_count": 18,
     "metadata": {},
     "output_type": "execute_result"
    }
   ],
   "source": [
    "#Küçük Harf\n",
    "a.lower()"
   ]
  },
  {
   "cell_type": "code",
   "execution_count": 19,
   "id": "981929cd",
   "metadata": {},
   "outputs": [
    {
     "data": {
      "text/plain": [
       "'Sercan'"
      ]
     },
     "execution_count": 19,
     "metadata": {},
     "output_type": "execute_result"
    }
   ],
   "source": [
    "#Başlık Formatı\n",
    "a.title()"
   ]
  },
  {
   "cell_type": "code",
   "execution_count": 20,
   "id": "ad6a5171",
   "metadata": {},
   "outputs": [
    {
     "data": {
      "text/plain": [
       "'Data Science'"
      ]
     },
     "execution_count": 20,
     "metadata": {},
     "output_type": "execute_result"
    }
   ],
   "source": [
    "c = 'dAta SciENCE'\n",
    "\n",
    "c.title()"
   ]
  },
  {
   "cell_type": "code",
   "execution_count": 21,
   "id": "5fde05e2",
   "metadata": {},
   "outputs": [
    {
     "data": {
      "text/plain": [
       "'datascience'"
      ]
     },
     "execution_count": 21,
     "metadata": {},
     "output_type": "execute_result"
    }
   ],
   "source": [
    "a = 'data'\n",
    "b = 'science'\n",
    "\n",
    "a + b"
   ]
  },
  {
   "cell_type": "code",
   "execution_count": 22,
   "id": "19071d20",
   "metadata": {},
   "outputs": [
    {
     "ename": "TypeError",
     "evalue": "unsupported operand type(s) for -: 'str' and 'str'",
     "output_type": "error",
     "traceback": [
      "\u001b[0;31m---------------------------------------------------------------------------\u001b[0m",
      "\u001b[0;31mTypeError\u001b[0m                                 Traceback (most recent call last)",
      "\u001b[0;32m/var/folders/67/wq_xsymd3jvc5w2fx1ld_18h0000gn/T/ipykernel_98043/2070517315.py\u001b[0m in \u001b[0;36m<module>\u001b[0;34m\u001b[0m\n\u001b[0;32m----> 1\u001b[0;31m \u001b[0ma\u001b[0m \u001b[0;34m-\u001b[0m \u001b[0mb\u001b[0m\u001b[0;34m\u001b[0m\u001b[0;34m\u001b[0m\u001b[0m\n\u001b[0m",
      "\u001b[0;31mTypeError\u001b[0m: unsupported operand type(s) for -: 'str' and 'str'"
     ]
    }
   ],
   "source": [
    "a - b"
   ]
  },
  {
   "cell_type": "code",
   "execution_count": null,
   "id": "f1649e4e",
   "metadata": {},
   "outputs": [],
   "source": [
    "a / b"
   ]
  },
  {
   "cell_type": "markdown",
   "id": "1b4fc021",
   "metadata": {},
   "source": [
    "## 3.4. Metinlerde Indeksleme ve Parçalama\n",
    "\n",
    "- Python programlama ortamında indeks değerleri **0**'dan başlamaktadır.\n",
    "- Belirli bir indeksde yer alan harfe ulaşmak için **köşeli parantez** kullanılmaktadır."
   ]
  },
  {
   "cell_type": "code",
   "execution_count": 23,
   "id": "38a4eb97",
   "metadata": {},
   "outputs": [
    {
     "data": {
      "text/plain": [
       "'Sercan'"
      ]
     },
     "execution_count": 23,
     "metadata": {},
     "output_type": "execute_result"
    }
   ],
   "source": [
    "a = 'Sercan'\n",
    "\n",
    "a"
   ]
  },
  {
   "cell_type": "code",
   "execution_count": 24,
   "id": "f1978db7",
   "metadata": {},
   "outputs": [
    {
     "data": {
      "text/plain": [
       "'S'"
      ]
     },
     "execution_count": 24,
     "metadata": {},
     "output_type": "execute_result"
    }
   ],
   "source": [
    "#İlk harfe ulaşalım\n",
    "\n",
    "a[0]"
   ]
  },
  {
   "cell_type": "code",
   "execution_count": 25,
   "id": "ee4f0125",
   "metadata": {},
   "outputs": [
    {
     "data": {
      "text/plain": [
       "'e'"
      ]
     },
     "execution_count": 25,
     "metadata": {},
     "output_type": "execute_result"
    }
   ],
   "source": [
    "#İkinci harfe ulaşalım\n",
    "\n",
    "a[1]"
   ]
  },
  {
   "cell_type": "code",
   "execution_count": 26,
   "id": "d88efac3",
   "metadata": {},
   "outputs": [
    {
     "data": {
      "text/plain": [
       "'c'"
      ]
     },
     "execution_count": 26,
     "metadata": {},
     "output_type": "execute_result"
    }
   ],
   "source": [
    "#Dördüncü harfe ulaşalım\n",
    "\n",
    "a[3]"
   ]
  },
  {
   "cell_type": "code",
   "execution_count": 27,
   "id": "ebf9f589",
   "metadata": {},
   "outputs": [
    {
     "data": {
      "text/plain": [
       "'n'"
      ]
     },
     "execution_count": 27,
     "metadata": {},
     "output_type": "execute_result"
    }
   ],
   "source": [
    "#Son harfe ulaşalım\n",
    "\n",
    "a[-1]"
   ]
  },
  {
   "cell_type": "code",
   "execution_count": 28,
   "id": "b4e8dd02",
   "metadata": {},
   "outputs": [
    {
     "data": {
      "text/plain": [
       "'a'"
      ]
     },
     "execution_count": 28,
     "metadata": {},
     "output_type": "execute_result"
    }
   ],
   "source": [
    "#Sondan 2. harfe ulaşalım\n",
    "\n",
    "a[-2]"
   ]
  },
  {
   "cell_type": "markdown",
   "id": "720dc0b6",
   "metadata": {},
   "source": [
    "- Sondan bir ifade çağırılırken indeks değerleri 0'dan değil -1'den başlar.\n",
    "- Belirli indeksler aralığında yer alan metinsel ifadelere yine köşeli parantez kullanılarak ulaşılabilir.\n",
    "- Aralığı belirtmek amacıyla köşeli parantez içinde iki nokta kullanılır.\n",
    "- Aralık belirtmek için **son girilen indeks değeri dahil değildir**."
   ]
  },
  {
   "cell_type": "code",
   "execution_count": 29,
   "id": "55f3b4fd",
   "metadata": {},
   "outputs": [
    {
     "name": "stdout",
     "output_type": "stream",
     "text": [
      "Sercan\n"
     ]
    }
   ],
   "source": [
    "a = 'Sercan'\n",
    "\n",
    "print(a)"
   ]
  },
  {
   "cell_type": "code",
   "execution_count": 30,
   "id": "8a41a52f",
   "metadata": {},
   "outputs": [
    {
     "data": {
      "text/plain": [
       "'rca'"
      ]
     },
     "execution_count": 30,
     "metadata": {},
     "output_type": "execute_result"
    }
   ],
   "source": [
    "#2. ve 5. harfler arasındaki ifadeleri getirelim\n",
    "\n",
    "a[2:5]"
   ]
  },
  {
   "cell_type": "code",
   "execution_count": 31,
   "id": "01bd6923",
   "metadata": {},
   "outputs": [
    {
     "data": {
      "text/plain": [
       "'A SCI'"
      ]
     },
     "execution_count": 31,
     "metadata": {},
     "output_type": "execute_result"
    }
   ],
   "source": [
    "b = 'DATA SCIENCE'\n",
    "\n",
    "b[3:8]"
   ]
  },
  {
   "cell_type": "code",
   "execution_count": 32,
   "id": "4f06bedf",
   "metadata": {},
   "outputs": [
    {
     "data": {
      "text/plain": [
       "'A.SCI'"
      ]
     },
     "execution_count": 32,
     "metadata": {},
     "output_type": "execute_result"
    }
   ],
   "source": [
    "b = 'DATA.SCIENCE'\n",
    "\n",
    "b[3:8]"
   ]
  },
  {
   "cell_type": "markdown",
   "id": "2bd962d5",
   "metadata": {},
   "source": [
    "- **Boşluklar** ve **noktalama işaretleri** de karakter olarak sayılmaktadır.\n",
    "- Bir string ifadenin uzunluğu **len()** fonksiyonu ile kontrol edilebilir."
   ]
  },
  {
   "cell_type": "code",
   "execution_count": 33,
   "id": "ac5b628e",
   "metadata": {},
   "outputs": [
    {
     "data": {
      "text/plain": [
       "6"
      ]
     },
     "execution_count": 33,
     "metadata": {},
     "output_type": "execute_result"
    }
   ],
   "source": [
    "#Bir string ifadenin uzunluğu\n",
    "a = 'Python'\n",
    "\n",
    "len(a)"
   ]
  },
  {
   "cell_type": "code",
   "execution_count": 34,
   "id": "50f6fc4d",
   "metadata": {},
   "outputs": [
    {
     "data": {
      "text/plain": [
       "5"
      ]
     },
     "execution_count": 34,
     "metadata": {},
     "output_type": "execute_result"
    }
   ],
   "source": [
    "a = 'data_'\n",
    "\n",
    "len(a)"
   ]
  },
  {
   "cell_type": "markdown",
   "id": "0410b014",
   "metadata": {},
   "source": [
    "- Bir metni kelimelerine ayırmak için **split()** fonksiyonu kullanılabilir."
   ]
  },
  {
   "cell_type": "code",
   "execution_count": 35,
   "id": "226e7cd8",
   "metadata": {},
   "outputs": [
    {
     "data": {
      "text/plain": [
       "['data', 'science']"
      ]
     },
     "execution_count": 35,
     "metadata": {},
     "output_type": "execute_result"
    }
   ],
   "source": [
    "a = 'data science'\n",
    "\n",
    "a.split()"
   ]
  },
  {
   "cell_type": "code",
   "execution_count": 36,
   "id": "3c3cac6c",
   "metadata": {},
   "outputs": [
    {
     "data": {
      "text/plain": [
       "['python', 'programlama', 'dili']"
      ]
     },
     "execution_count": 36,
     "metadata": {},
     "output_type": "execute_result"
    }
   ],
   "source": [
    "a = 'python programlama dili'\n",
    "\n",
    "a.split()"
   ]
  },
  {
   "cell_type": "code",
   "execution_count": 37,
   "id": "6fea7c97",
   "metadata": {},
   "outputs": [
    {
     "data": {
      "text/plain": [
       "['python', 'ile', 'veri', 'bilimi']"
      ]
     },
     "execution_count": 37,
     "metadata": {},
     "output_type": "execute_result"
    }
   ],
   "source": [
    "b = 'python.ile.veri.bilimi'\n",
    "\n",
    "b.split('.')"
   ]
  },
  {
   "cell_type": "code",
   "execution_count": 38,
   "id": "924013f8",
   "metadata": {},
   "outputs": [
    {
     "data": {
      "text/plain": [
       "['python.ile.veri.bilimi']"
      ]
     },
     "execution_count": 38,
     "metadata": {},
     "output_type": "execute_result"
    }
   ],
   "source": [
    "b.split()"
   ]
  },
  {
   "cell_type": "code",
   "execution_count": 39,
   "id": "8c1cc90f",
   "metadata": {},
   "outputs": [
    {
     "name": "stdout",
     "output_type": "stream",
     "text": [
      "['python', 'programlama', 'dili']\n"
     ]
    }
   ],
   "source": [
    "#Kelime listesinden seçip\n",
    "\n",
    "a = 'python programlama dili'\n",
    "\n",
    "kelime_listesi = a.split()\n",
    "\n",
    "print(kelime_listesi)"
   ]
  },
  {
   "cell_type": "code",
   "execution_count": 40,
   "id": "92b82205",
   "metadata": {},
   "outputs": [
    {
     "data": {
      "text/plain": [
       "'python'"
      ]
     },
     "execution_count": 40,
     "metadata": {},
     "output_type": "execute_result"
    }
   ],
   "source": [
    "#birinci kelime\n",
    "kelime_listesi[0]"
   ]
  },
  {
   "cell_type": "code",
   "execution_count": 41,
   "id": "8af60950",
   "metadata": {
    "scrolled": true
   },
   "outputs": [
    {
     "data": {
      "text/plain": [
       "'programlama'"
      ]
     },
     "execution_count": 41,
     "metadata": {},
     "output_type": "execute_result"
    }
   ],
   "source": [
    "#ikinci kelime\n",
    "kelime_listesi[1]"
   ]
  },
  {
   "cell_type": "markdown",
   "id": "5ed9b7fa",
   "metadata": {},
   "source": [
    "- Bir metnin başındaki ve sonundaki belirli ifadeleri temizlemek için **strip()** fonksiyonu kullanılabilir."
   ]
  },
  {
   "cell_type": "code",
   "execution_count": 42,
   "id": "291528fe",
   "metadata": {},
   "outputs": [
    {
     "data": {
      "text/plain": [
       "'data'"
      ]
     },
     "execution_count": 42,
     "metadata": {},
     "output_type": "execute_result"
    }
   ],
   "source": [
    "a = '            data                '\n",
    "\n",
    "a.strip()"
   ]
  },
  {
   "cell_type": "code",
   "execution_count": 43,
   "id": "d3fa5008",
   "metadata": {},
   "outputs": [
    {
     "data": {
      "text/plain": [
       "'-----------------------python-----------------------'"
      ]
     },
     "execution_count": 43,
     "metadata": {},
     "output_type": "execute_result"
    }
   ],
   "source": [
    "b = '-----------------------python-----------------------'\n",
    "\n",
    "b.strip()"
   ]
  },
  {
   "cell_type": "code",
   "execution_count": 44,
   "id": "9d4eda7a",
   "metadata": {},
   "outputs": [
    {
     "data": {
      "text/plain": [
       "'python'"
      ]
     },
     "execution_count": 44,
     "metadata": {},
     "output_type": "execute_result"
    }
   ],
   "source": [
    "b.strip('-')"
   ]
  },
  {
   "cell_type": "code",
   "execution_count": 45,
   "id": "8e69cd70",
   "metadata": {},
   "outputs": [
    {
     "data": {
      "text/plain": [
       "'merhaba------------------'"
      ]
     },
     "execution_count": 45,
     "metadata": {},
     "output_type": "execute_result"
    }
   ],
   "source": [
    "c = '***************merhaba------------------'\n",
    "\n",
    "c.strip('*')"
   ]
  },
  {
   "cell_type": "code",
   "execution_count": 46,
   "id": "7881554c",
   "metadata": {},
   "outputs": [
    {
     "data": {
      "text/plain": [
       "'merhaba------------------'"
      ]
     },
     "execution_count": 46,
     "metadata": {},
     "output_type": "execute_result"
    }
   ],
   "source": [
    "#Metnin başını temizlemek için lstrip kullanılır\n",
    "c.lstrip('*')"
   ]
  },
  {
   "cell_type": "code",
   "execution_count": 47,
   "id": "28ee4598",
   "metadata": {},
   "outputs": [
    {
     "data": {
      "text/plain": [
       "'***************merhaba'"
      ]
     },
     "execution_count": 47,
     "metadata": {},
     "output_type": "execute_result"
    }
   ],
   "source": [
    "#Metnin sonunu temizlemek için rstrip kullanılır\n",
    "c.rstrip('-')"
   ]
  },
  {
   "cell_type": "code",
   "execution_count": 48,
   "id": "c3db4daa",
   "metadata": {},
   "outputs": [
    {
     "data": {
      "text/plain": [
       "'merhaba'"
      ]
     },
     "execution_count": 48,
     "metadata": {},
     "output_type": "execute_result"
    }
   ],
   "source": [
    "#Hem başını hem sonunu temizlemek\n",
    "c.lstrip('*').rstrip('-')"
   ]
  },
  {
   "cell_type": "markdown",
   "id": "af3f5f92",
   "metadata": {},
   "source": [
    "## 4. Değişken Tipi Dönüşümleri"
   ]
  },
  {
   "cell_type": "code",
   "execution_count": 49,
   "id": "de72b87f",
   "metadata": {},
   "outputs": [
    {
     "ename": "TypeError",
     "evalue": "can only concatenate str (not \"int\") to str",
     "output_type": "error",
     "traceback": [
      "\u001b[0;31m---------------------------------------------------------------------------\u001b[0m",
      "\u001b[0;31mTypeError\u001b[0m                                 Traceback (most recent call last)",
      "\u001b[0;32m/var/folders/67/wq_xsymd3jvc5w2fx1ld_18h0000gn/T/ipykernel_98043/3500561920.py\u001b[0m in \u001b[0;36m<module>\u001b[0;34m\u001b[0m\n\u001b[1;32m      1\u001b[0m \u001b[0;31m#string ifade ile integer değerin toplanması\u001b[0m\u001b[0;34m\u001b[0m\u001b[0;34m\u001b[0m\u001b[0m\n\u001b[1;32m      2\u001b[0m \u001b[0;34m\u001b[0m\u001b[0m\n\u001b[0;32m----> 3\u001b[0;31m \u001b[0;34m'sercan'\u001b[0m \u001b[0;34m+\u001b[0m \u001b[0;36m1\u001b[0m\u001b[0;34m\u001b[0m\u001b[0;34m\u001b[0m\u001b[0m\n\u001b[0m",
      "\u001b[0;31mTypeError\u001b[0m: can only concatenate str (not \"int\") to str"
     ]
    }
   ],
   "source": [
    "#string ifade ile integer değerin toplanması\n",
    "\n",
    "'sercan' + 1"
   ]
  },
  {
   "cell_type": "code",
   "execution_count": 50,
   "id": "bf4ed8fe",
   "metadata": {},
   "outputs": [
    {
     "data": {
      "text/plain": [
       "'sercan1'"
      ]
     },
     "execution_count": 50,
     "metadata": {},
     "output_type": "execute_result"
    }
   ],
   "source": [
    "'sercan' + '1'"
   ]
  },
  {
   "cell_type": "code",
   "execution_count": 51,
   "id": "da706f46",
   "metadata": {},
   "outputs": [
    {
     "data": {
      "text/plain": [
       "'sercan1'"
      ]
     },
     "execution_count": 51,
     "metadata": {},
     "output_type": "execute_result"
    }
   ],
   "source": [
    "'sercan' + str(1)"
   ]
  },
  {
   "cell_type": "markdown",
   "id": "186784b5",
   "metadata": {},
   "source": [
    "- **str()** fonksiyonu içine girilen ifadeyi string formata çevirir"
   ]
  },
  {
   "cell_type": "code",
   "execution_count": 52,
   "id": "af3e504f",
   "metadata": {},
   "outputs": [
    {
     "data": {
      "text/plain": [
       "'4.5'"
      ]
     },
     "execution_count": 52,
     "metadata": {},
     "output_type": "execute_result"
    }
   ],
   "source": [
    "str(4.5)"
   ]
  },
  {
   "cell_type": "code",
   "execution_count": 53,
   "id": "39afd2e8",
   "metadata": {},
   "outputs": [
    {
     "data": {
      "text/plain": [
       "'sercan4.5'"
      ]
     },
     "execution_count": 53,
     "metadata": {},
     "output_type": "execute_result"
    }
   ],
   "source": [
    "'sercan' + str(4.5)"
   ]
  },
  {
   "cell_type": "code",
   "execution_count": 54,
   "id": "83233024",
   "metadata": {},
   "outputs": [
    {
     "ename": "TypeError",
     "evalue": "can only concatenate str (not \"int\") to str",
     "output_type": "error",
     "traceback": [
      "\u001b[0;31m---------------------------------------------------------------------------\u001b[0m",
      "\u001b[0;31mTypeError\u001b[0m                                 Traceback (most recent call last)",
      "\u001b[0;32m/var/folders/67/wq_xsymd3jvc5w2fx1ld_18h0000gn/T/ipykernel_98043/2691436602.py\u001b[0m in \u001b[0;36m<module>\u001b[0;34m\u001b[0m\n\u001b[1;32m      1\u001b[0m \u001b[0;31m#Bir sayısal metin değerini sayısal bir değer ile toplayalım\u001b[0m\u001b[0;34m\u001b[0m\u001b[0;34m\u001b[0m\u001b[0m\n\u001b[1;32m      2\u001b[0m \u001b[0;34m\u001b[0m\u001b[0m\n\u001b[0;32m----> 3\u001b[0;31m \u001b[0;34m'4'\u001b[0m \u001b[0;34m+\u001b[0m \u001b[0;36m3\u001b[0m\u001b[0;34m\u001b[0m\u001b[0;34m\u001b[0m\u001b[0m\n\u001b[0m",
      "\u001b[0;31mTypeError\u001b[0m: can only concatenate str (not \"int\") to str"
     ]
    }
   ],
   "source": [
    "#Bir sayısal metin değerini sayısal bir değer ile toplayalım\n",
    "\n",
    "'4' + 3"
   ]
  },
  {
   "cell_type": "code",
   "execution_count": 55,
   "id": "27825970",
   "metadata": {},
   "outputs": [
    {
     "data": {
      "text/plain": [
       "7"
      ]
     },
     "execution_count": 55,
     "metadata": {},
     "output_type": "execute_result"
    }
   ],
   "source": [
    "int('4') + 3"
   ]
  },
  {
   "cell_type": "markdown",
   "id": "4a2b43f1",
   "metadata": {},
   "source": [
    "- **int()** fonksiyonu içine girilen ifadeyi integer formata çevirir\n",
    "- **float()** fonksiyonu içine girilen ifadeyi float formata çevirir"
   ]
  },
  {
   "cell_type": "code",
   "execution_count": 56,
   "id": "87a12d01",
   "metadata": {},
   "outputs": [
    {
     "data": {
      "text/plain": [
       "7.5"
      ]
     },
     "execution_count": 56,
     "metadata": {},
     "output_type": "execute_result"
    }
   ],
   "source": [
    "float('4.5') + 3"
   ]
  },
  {
   "cell_type": "markdown",
   "id": "d090877e",
   "metadata": {},
   "source": [
    "## 5. Çoklu Veri Tipleri\n",
    "\n",
    "Python programlama dilinde **sözlük (dictionary)**, **demet (tuple)** ve **liste (list)** olmak üzere 3 çoklu veri tipi mevcuttur.\n",
    "\n",
    "## 5.1. Liste Veri Tipleri\n",
    "\n",
    "- Liste veri tipleri Python programlama dilinde en sık kullanılan çoklu veri tipidir.\n",
    "- Bir liste oluşturmak için **köşeli parantez** kullanılır.\n",
    "- Liste elemanları **herhangi bir veri tipinde** olabilir."
   ]
  },
  {
   "cell_type": "code",
   "execution_count": 57,
   "id": "d390bd86",
   "metadata": {},
   "outputs": [
    {
     "name": "stdout",
     "output_type": "stream",
     "text": [
      "<class 'list'>\n"
     ]
    }
   ],
   "source": [
    "#Bir liste oluşturalım\n",
    "\n",
    "a = [1, 2, 'sercan', 4.5, 'python']\n",
    "\n",
    "print(type(a))"
   ]
  },
  {
   "cell_type": "code",
   "execution_count": 58,
   "id": "1ddb76d7",
   "metadata": {},
   "outputs": [
    {
     "name": "stdout",
     "output_type": "stream",
     "text": [
      "[1, 2, 3] [4, 5, 6]\n"
     ]
    }
   ],
   "source": [
    "#birkaç liste oluşturalım\n",
    "\n",
    "a = [1, 2, 3]\n",
    "\n",
    "b = [4, 5, 6]\n",
    "\n",
    "print(a, b)"
   ]
  },
  {
   "cell_type": "code",
   "execution_count": 59,
   "id": "9c4584d0",
   "metadata": {},
   "outputs": [
    {
     "data": {
      "text/plain": [
       "25"
      ]
     },
     "execution_count": 59,
     "metadata": {},
     "output_type": "execute_result"
    }
   ],
   "source": [
    "#Listeden eleman seçimi & kesinkli seçim\n",
    "a = [25, 26, 27, 28, 29]\n",
    "\n",
    "a[0]"
   ]
  },
  {
   "cell_type": "code",
   "execution_count": 60,
   "id": "0844e0d2",
   "metadata": {},
   "outputs": [
    {
     "data": {
      "text/plain": [
       "26"
      ]
     },
     "execution_count": 60,
     "metadata": {},
     "output_type": "execute_result"
    }
   ],
   "source": [
    "a[1]"
   ]
  },
  {
   "cell_type": "code",
   "execution_count": 61,
   "id": "ac9a41b6",
   "metadata": {},
   "outputs": [
    {
     "data": {
      "text/plain": [
       "[26, 27]"
      ]
     },
     "execution_count": 61,
     "metadata": {},
     "output_type": "execute_result"
    }
   ],
   "source": [
    "#Birinci elemandan üçüncü elemana kadar olan değerleri getirelim\n",
    "a[1:3]"
   ]
  },
  {
   "cell_type": "code",
   "execution_count": 62,
   "id": "50579491",
   "metadata": {},
   "outputs": [
    {
     "data": {
      "text/plain": [
       "29"
      ]
     },
     "execution_count": 62,
     "metadata": {},
     "output_type": "execute_result"
    }
   ],
   "source": [
    "#Listenin son elemanını getirelim\n",
    "a[-1]"
   ]
  },
  {
   "cell_type": "code",
   "execution_count": 63,
   "id": "7cd50f4e",
   "metadata": {},
   "outputs": [
    {
     "data": {
      "text/plain": [
       "28"
      ]
     },
     "execution_count": 63,
     "metadata": {},
     "output_type": "execute_result"
    }
   ],
   "source": [
    "#Listenin sondan ikinci elemanını getirelim\n",
    "a[-2]"
   ]
  },
  {
   "cell_type": "code",
   "execution_count": 64,
   "id": "0464f7cc",
   "metadata": {},
   "outputs": [
    {
     "name": "stdout",
     "output_type": "stream",
     "text": [
      "[21, 26, 27, 28, 29]\n"
     ]
    }
   ],
   "source": [
    "#Bir indekste yer alan değeri değiştirelim\n",
    "a[0] = 21\n",
    "\n",
    "print(a)"
   ]
  },
  {
   "cell_type": "code",
   "execution_count": 65,
   "id": "3d7ce2de",
   "metadata": {},
   "outputs": [
    {
     "name": "stdout",
     "output_type": "stream",
     "text": [
      "[21, 26, 27, 28, 35]\n"
     ]
    }
   ],
   "source": [
    "a[-1] = 35\n",
    "\n",
    "print(a)"
   ]
  },
  {
   "cell_type": "code",
   "execution_count": 66,
   "id": "3f017a79",
   "metadata": {},
   "outputs": [
    {
     "data": {
      "text/plain": [
       "[1, 2, 3, 4, 5, 6]"
      ]
     },
     "execution_count": 66,
     "metadata": {},
     "output_type": "execute_result"
    }
   ],
   "source": [
    "#İki liste toplandığında tıpkı bir string ifade gibi birleştirilmiş olur\n",
    "a = [1, 2, 3]\n",
    "\n",
    "b = [4, 5, 6]\n",
    "\n",
    "a + b"
   ]
  },
  {
   "cell_type": "markdown",
   "id": "a7396183",
   "metadata": {},
   "source": [
    "Python programlama dilinde listelere özel pek çok fonksiyon bulunmaktadır.\n",
    "\n",
    "- **append()**: Listenin sonuna girilen elemanı ekler.\n",
    "- **remove()**: Girilen elemanı listeden siler.\n",
    "- **pop()**: Girilen indekste yer alan elemanı listeden siler. Indeks girilmezse sondaki elemanı siler.\n",
    "- **extend()**: Listenin sonuna girilen listeyi ekler.\n",
    "- **insert()**: Indeks bilgisi ve değer alıp belirtilen indekse girilen değeri yazar\n",
    "- **sort()**: Elemanları sıralar, sıralama sırasında string olarak tutulan verileri sıralarken türkçe alfabeyi dikkate almaz.\n",
    "- **reverse()**: Listeyi tersine çevirir, ilk elaman sona, son eleman en başa geçer.\n",
    "\n",
    "### Örnekler"
   ]
  },
  {
   "cell_type": "code",
   "execution_count": 67,
   "id": "5776e48a",
   "metadata": {},
   "outputs": [
    {
     "name": "stdout",
     "output_type": "stream",
     "text": [
      "['Sercan', 'Ali', 'Ayşe', 'Mehmet', 'Selin']\n"
     ]
    }
   ],
   "source": [
    "#Append\n",
    "isimler = ['Sercan', 'Ali', 'Ayşe', 'Mehmet']\n",
    "\n",
    "isimler.append('Selin')\n",
    "\n",
    "print(isimler)"
   ]
  },
  {
   "cell_type": "code",
   "execution_count": 68,
   "id": "ae580103",
   "metadata": {},
   "outputs": [
    {
     "name": "stdout",
     "output_type": "stream",
     "text": [
      "['Ali', 'Ayşe', 'Mehmet']\n"
     ]
    }
   ],
   "source": [
    "#Remove\n",
    "isimler = ['Sercan', 'Ali', 'Ayşe', 'Mehmet']\n",
    "\n",
    "isimler.remove('Sercan')\n",
    "\n",
    "print(isimler)"
   ]
  },
  {
   "cell_type": "code",
   "execution_count": 69,
   "id": "4ea353f0",
   "metadata": {},
   "outputs": [
    {
     "name": "stdout",
     "output_type": "stream",
     "text": [
      "['Ali', 'Ayşe', 'Mehmet']\n"
     ]
    }
   ],
   "source": [
    "#Pop\n",
    "isimler = ['Sercan', 'Ali', 'Ayşe', 'Mehmet']\n",
    "\n",
    "isimler.pop(0)\n",
    "\n",
    "print(isimler)"
   ]
  },
  {
   "cell_type": "code",
   "execution_count": 70,
   "id": "bcc69cf3",
   "metadata": {},
   "outputs": [
    {
     "name": "stdout",
     "output_type": "stream",
     "text": [
      "['Sercan', 'Ali', 'Ayşe', 'Mehmet', 'Can', 'Veysel', 'Selin', 'Cenk']\n"
     ]
    }
   ],
   "source": [
    "#Extend\n",
    "isimler = ['Sercan', 'Ali', 'Ayşe', 'Mehmet']\n",
    "isimler2 = ['Can', 'Veysel', 'Selin', 'Cenk']\n",
    "\n",
    "isimler.extend(isimler2)\n",
    "\n",
    "print(isimler)"
   ]
  },
  {
   "cell_type": "code",
   "execution_count": 71,
   "id": "990f1720",
   "metadata": {},
   "outputs": [
    {
     "name": "stdout",
     "output_type": "stream",
     "text": [
      "['Ali', 'Ayşe', 'Mehmet', 'Sercan']\n"
     ]
    }
   ],
   "source": [
    "#Sort\n",
    "isimler = ['Sercan', 'Ali', 'Ayşe', 'Mehmet']\n",
    "\n",
    "isimler.sort()\n",
    "\n",
    "print(isimler)"
   ]
  },
  {
   "cell_type": "code",
   "execution_count": 72,
   "id": "4c826b95",
   "metadata": {},
   "outputs": [
    {
     "name": "stdout",
     "output_type": "stream",
     "text": [
      "['Mehmet', 'Ayşe', 'Ali', 'Sercan']\n"
     ]
    }
   ],
   "source": [
    "#Reverse\n",
    "isimler = ['Sercan', 'Ali', 'Ayşe', 'Mehmet']\n",
    "\n",
    "isimler.reverse()\n",
    "\n",
    "print(isimler)"
   ]
  },
  {
   "cell_type": "markdown",
   "id": "529194f1",
   "metadata": {},
   "source": [
    "## 5.2. Demet (Tuple) Veri Tipleri\n",
    "\n",
    "- Python programlama dilinde demetler, listeler kadar sık kullanılmamaktadır.\n",
    "- Bir tuple oluşturmak için **parantez** kullanılır.\n",
    "- Listeler ile oldukça benzerlerdir, farkı **değiştirilemez** oluşudur.\n",
    "- Değiştirilmesini istemediğimiz yapıları demetler içinde saklayabiliriz."
   ]
  },
  {
   "cell_type": "code",
   "execution_count": 73,
   "id": "ca1699b1",
   "metadata": {},
   "outputs": [
    {
     "name": "stdout",
     "output_type": "stream",
     "text": [
      "(1, 2, 3, 4, 5)\n"
     ]
    }
   ],
   "source": [
    "#Bir tuple oluşturalım\n",
    "t1 = (1, 2, 3, 4, 5)\n",
    "\n",
    "print(t1)"
   ]
  },
  {
   "cell_type": "code",
   "execution_count": 74,
   "id": "d2343b16",
   "metadata": {},
   "outputs": [
    {
     "name": "stdout",
     "output_type": "stream",
     "text": [
      "<class 'tuple'>\n"
     ]
    }
   ],
   "source": [
    "print(type(t1))"
   ]
  },
  {
   "cell_type": "code",
   "execution_count": 75,
   "id": "07c99f6b",
   "metadata": {},
   "outputs": [
    {
     "name": "stdout",
     "output_type": "stream",
     "text": [
      "(1, 'sercan', 2, 'data science')\n"
     ]
    }
   ],
   "source": [
    "t2 = (1, 'sercan', 2, 'data science')\n",
    "\n",
    "print(t2)"
   ]
  },
  {
   "cell_type": "code",
   "execution_count": 76,
   "id": "cc5064b0",
   "metadata": {},
   "outputs": [
    {
     "data": {
      "text/plain": [
       "25"
      ]
     },
     "execution_count": 76,
     "metadata": {},
     "output_type": "execute_result"
    }
   ],
   "source": [
    "#Demetten eleman seçimi & kesinkli seçim\n",
    "a = (25, 26, 27, 28, 29)\n",
    "\n",
    "a[0]"
   ]
  },
  {
   "cell_type": "code",
   "execution_count": 77,
   "id": "d78741b1",
   "metadata": {},
   "outputs": [
    {
     "data": {
      "text/plain": [
       "(27, 28)"
      ]
     },
     "execution_count": 77,
     "metadata": {},
     "output_type": "execute_result"
    }
   ],
   "source": [
    "#İkinci elemandan dördünce elemana kadar olan değerleri getirelim\n",
    "a[2:4]"
   ]
  },
  {
   "cell_type": "code",
   "execution_count": 78,
   "id": "0fef92b2",
   "metadata": {},
   "outputs": [
    {
     "data": {
      "text/plain": [
       "29"
      ]
     },
     "execution_count": 78,
     "metadata": {},
     "output_type": "execute_result"
    }
   ],
   "source": [
    "#Demetin son elemanını getirelim\n",
    "a[-1]"
   ]
  },
  {
   "cell_type": "code",
   "execution_count": 79,
   "id": "252fee3b",
   "metadata": {},
   "outputs": [
    {
     "data": {
      "text/plain": [
       "28"
      ]
     },
     "execution_count": 79,
     "metadata": {},
     "output_type": "execute_result"
    }
   ],
   "source": [
    "#Demetin sondan ikinci elemanını getirelim\n",
    "a[-2]"
   ]
  },
  {
   "cell_type": "code",
   "execution_count": 80,
   "id": "52916c08",
   "metadata": {},
   "outputs": [
    {
     "ename": "TypeError",
     "evalue": "'tuple' object does not support item assignment",
     "output_type": "error",
     "traceback": [
      "\u001b[0;31m---------------------------------------------------------------------------\u001b[0m",
      "\u001b[0;31mTypeError\u001b[0m                                 Traceback (most recent call last)",
      "\u001b[0;32m/var/folders/67/wq_xsymd3jvc5w2fx1ld_18h0000gn/T/ipykernel_98043/268551114.py\u001b[0m in \u001b[0;36m<module>\u001b[0;34m\u001b[0m\n\u001b[1;32m      1\u001b[0m \u001b[0;31m#Demetin bir elemanını değiştirmeye çalışalım\u001b[0m\u001b[0;34m\u001b[0m\u001b[0;34m\u001b[0m\u001b[0m\n\u001b[0;32m----> 2\u001b[0;31m \u001b[0ma\u001b[0m\u001b[0;34m[\u001b[0m\u001b[0;36m0\u001b[0m\u001b[0;34m]\u001b[0m \u001b[0;34m=\u001b[0m \u001b[0;36m3\u001b[0m\u001b[0;34m\u001b[0m\u001b[0;34m\u001b[0m\u001b[0m\n\u001b[0m",
      "\u001b[0;31mTypeError\u001b[0m: 'tuple' object does not support item assignment"
     ]
    }
   ],
   "source": [
    "#Demetin bir elemanını değiştirmeye çalışalım\n",
    "a[0] = 3"
   ]
  },
  {
   "cell_type": "markdown",
   "id": "9a78761e",
   "metadata": {},
   "source": [
    "- Demetlerin sadece 2 fonksiyonu bulunmaktadır.\n",
    "- **index()** fonksiyonu ile belirtilen elemanın indeksini bulabiliriz.\n",
    "- **count()** fonksiyonu ile belirtilen elemanın demet içinde kaç kere geçtiğini görebiliriz."
   ]
  },
  {
   "cell_type": "code",
   "execution_count": 81,
   "id": "3238e494",
   "metadata": {},
   "outputs": [
    {
     "data": {
      "text/plain": [
       "1"
      ]
     },
     "execution_count": 81,
     "metadata": {},
     "output_type": "execute_result"
    }
   ],
   "source": [
    "b = ('sercan', 'ayşe', 'ömer', 'zeynep', 'aslı', 'orhan')\n",
    "\n",
    "b.index('ayşe')"
   ]
  },
  {
   "cell_type": "code",
   "execution_count": 82,
   "id": "2199e453",
   "metadata": {},
   "outputs": [
    {
     "data": {
      "text/plain": [
       "2"
      ]
     },
     "execution_count": 82,
     "metadata": {},
     "output_type": "execute_result"
    }
   ],
   "source": [
    "b.index('ömer')"
   ]
  },
  {
   "cell_type": "code",
   "execution_count": 83,
   "id": "14721036",
   "metadata": {},
   "outputs": [
    {
     "data": {
      "text/plain": [
       "0"
      ]
     },
     "execution_count": 83,
     "metadata": {},
     "output_type": "execute_result"
    }
   ],
   "source": [
    "b.index('sercan')"
   ]
  },
  {
   "cell_type": "code",
   "execution_count": 84,
   "id": "01675971",
   "metadata": {},
   "outputs": [
    {
     "data": {
      "text/plain": [
       "3"
      ]
     },
     "execution_count": 84,
     "metadata": {},
     "output_type": "execute_result"
    }
   ],
   "source": [
    "c = (1, 1, 1, 2, 2, 5, 7, 12)\n",
    "\n",
    "c.count(1)"
   ]
  },
  {
   "cell_type": "code",
   "execution_count": 85,
   "id": "d4f42b46",
   "metadata": {},
   "outputs": [
    {
     "data": {
      "text/plain": [
       "2"
      ]
     },
     "execution_count": 85,
     "metadata": {},
     "output_type": "execute_result"
    }
   ],
   "source": [
    "c.count(2)"
   ]
  },
  {
   "cell_type": "markdown",
   "id": "57722da9",
   "metadata": {},
   "source": [
    "## 5.3. Sözlük (Dictionary) Veri Tipleri\n",
    "\n",
    "- Yapısı bakımından liste ve demetlerden farklıdır.\n",
    "- **Değerler** (value) ve **anahtarlardan** (keys) oluşmaktadır.\n",
    "- Bir sözlüğün içindeki her bir değer indeks değeri yerine bir anahtar (key) ile saklanmaktadır.\n",
    "- **Süslü parantez** kullanılarak oluşturulurlar.\n",
    "- Süslü parantez içinde ilk element değer **anahtar**, ikinci element **değerdir**. Anahtar ve değer arasında iki nokta olmalıdır."
   ]
  },
  {
   "cell_type": "code",
   "execution_count": 86,
   "id": "1932da2a",
   "metadata": {},
   "outputs": [
    {
     "name": "stdout",
     "output_type": "stream",
     "text": [
      "<class 'dict'>\n"
     ]
    }
   ],
   "source": [
    "#Bir sözlük oluşturalım\n",
    "\n",
    "a = {'sercan': 'data science'}\n",
    "\n",
    "print(type(a))"
   ]
  },
  {
   "cell_type": "code",
   "execution_count": 87,
   "id": "dd4bc0de",
   "metadata": {},
   "outputs": [
    {
     "data": {
      "text/plain": [
       "24"
      ]
     },
     "execution_count": 87,
     "metadata": {},
     "output_type": "execute_result"
    }
   ],
   "source": [
    "age = {'sercan': 24,\n",
    "       'ahmet': 25,\n",
    "       'mehmet': 26,\n",
    "       'ayşe': 27}\n",
    "\n",
    "age['sercan']"
   ]
  },
  {
   "cell_type": "code",
   "execution_count": 88,
   "id": "a1e8f067",
   "metadata": {},
   "outputs": [
    {
     "data": {
      "text/plain": [
       "25"
      ]
     },
     "execution_count": 88,
     "metadata": {},
     "output_type": "execute_result"
    }
   ],
   "source": [
    "age['ahmet']"
   ]
  },
  {
   "cell_type": "code",
   "execution_count": 89,
   "id": "dbb4ecae",
   "metadata": {},
   "outputs": [
    {
     "data": {
      "text/plain": [
       "27"
      ]
     },
     "execution_count": 89,
     "metadata": {},
     "output_type": "execute_result"
    }
   ],
   "source": [
    "age['ayşe']"
   ]
  },
  {
   "cell_type": "markdown",
   "id": "e0737027",
   "metadata": {},
   "source": [
    "- Sözlüklerin pek çok metodu kullanılmaktadır.\n",
    "- En çok kullanılan üç metodu **keys**, **values** ve **items**'dır.\n",
    "- **keys()**: sözlüğün anahtar değerlerini döner.\n",
    "- **values()**: sözlüğün değerlerini gösterir.\n",
    "- **items()**: sözlüğün anahtar ve değerlerini birer demet içinde gösterir."
   ]
  },
  {
   "cell_type": "code",
   "execution_count": 90,
   "id": "44bcd628",
   "metadata": {},
   "outputs": [
    {
     "data": {
      "text/plain": [
       "dict_keys(['sercan', 'ahmet', 'mehmet', 'ayşe'])"
      ]
     },
     "execution_count": 90,
     "metadata": {},
     "output_type": "execute_result"
    }
   ],
   "source": [
    "#Anahtarlar\n",
    "age.keys()"
   ]
  },
  {
   "cell_type": "code",
   "execution_count": 91,
   "id": "3c9962ba",
   "metadata": {},
   "outputs": [
    {
     "data": {
      "text/plain": [
       "dict_values([24, 25, 26, 27])"
      ]
     },
     "execution_count": 91,
     "metadata": {},
     "output_type": "execute_result"
    }
   ],
   "source": [
    "#Değerler\n",
    "age.values()"
   ]
  },
  {
   "cell_type": "code",
   "execution_count": 92,
   "id": "80818977",
   "metadata": {},
   "outputs": [
    {
     "data": {
      "text/plain": [
       "dict_items([('sercan', 24), ('ahmet', 25), ('mehmet', 26), ('ayşe', 27)])"
      ]
     },
     "execution_count": 92,
     "metadata": {},
     "output_type": "execute_result"
    }
   ],
   "source": [
    "#Anahtar ve Değerler\n",
    "age.items()"
   ]
  },
  {
   "cell_type": "code",
   "execution_count": 93,
   "id": "10628617",
   "metadata": {},
   "outputs": [
    {
     "name": "stdout",
     "output_type": "stream",
     "text": [
      "{'sercan': 30, 'ahmet': 25, 'mehmet': 26, 'ayşe': 27}\n"
     ]
    }
   ],
   "source": [
    "#Sözlükteki eleman değerlerini değiştirmek\n",
    "\n",
    "age['sercan'] = 30\n",
    "\n",
    "print(age)"
   ]
  },
  {
   "cell_type": "code",
   "execution_count": 94,
   "id": "73cfcb72",
   "metadata": {},
   "outputs": [
    {
     "name": "stdout",
     "output_type": "stream",
     "text": [
      "{'sercan': 30, 'ahmet': 35, 'mehmet': 26, 'ayşe': 27}\n"
     ]
    }
   ],
   "source": [
    "age['ahmet'] = 35\n",
    "\n",
    "print(age)"
   ]
  },
  {
   "cell_type": "code",
   "execution_count": 95,
   "id": "4cf4f186",
   "metadata": {},
   "outputs": [
    {
     "name": "stdout",
     "output_type": "stream",
     "text": [
      "{'sercan': 30, 'ahmet': 35, 'mehmet': 26, 'ayşe': 27, 'ceren': 39}\n"
     ]
    }
   ],
   "source": [
    "#Sözlüğe yeni bir veri değer eklemek\n",
    "\n",
    "age['ceren'] = 39\n",
    "\n",
    "print(age)"
   ]
  },
  {
   "cell_type": "code",
   "execution_count": 96,
   "id": "09ccc903",
   "metadata": {},
   "outputs": [
    {
     "name": "stdout",
     "output_type": "stream",
     "text": [
      "<class 'dict'>\n"
     ]
    }
   ],
   "source": [
    "#Sözlükler değer olarak herhangi veri tipinde bir değer alabilir\n",
    "\n",
    "gıda = {'meyve': ['elma', 'armut', 'kiraz', 'karpuz'],\n",
    "        'sebze': ['domates', 'salatalık', 'biber', 'soğan']\n",
    "       }\n",
    "\n",
    "print(type(gıda))"
   ]
  },
  {
   "cell_type": "code",
   "execution_count": 97,
   "id": "8da57ba1",
   "metadata": {},
   "outputs": [
    {
     "data": {
      "text/plain": [
       "['elma', 'armut', 'kiraz', 'karpuz']"
      ]
     },
     "execution_count": 97,
     "metadata": {},
     "output_type": "execute_result"
    }
   ],
   "source": [
    "#Meyveleri çağıralım\n",
    "gıda['meyve']"
   ]
  },
  {
   "cell_type": "code",
   "execution_count": 98,
   "id": "af2f9fea",
   "metadata": {},
   "outputs": [
    {
     "data": {
      "text/plain": [
       "'kiraz'"
      ]
     },
     "execution_count": 98,
     "metadata": {},
     "output_type": "execute_result"
    }
   ],
   "source": [
    "#3. Meyveyi çağıralım\n",
    "gıda['meyve'][2]"
   ]
  },
  {
   "cell_type": "code",
   "execution_count": 99,
   "id": "564fad52",
   "metadata": {},
   "outputs": [
    {
     "data": {
      "text/plain": [
       "'salatalık'"
      ]
     },
     "execution_count": 99,
     "metadata": {},
     "output_type": "execute_result"
    }
   ],
   "source": [
    "#2. Sebzeyi çağıralım\n",
    "gıda['sebze'][1]"
   ]
  },
  {
   "cell_type": "markdown",
   "id": "6f4f71e3",
   "metadata": {},
   "source": [
    "## Alıştırma 1\n",
    "\n",
    "Kendi isminizin ikinci harfini yazdırınız."
   ]
  },
  {
   "cell_type": "code",
   "execution_count": null,
   "id": "b10fe351",
   "metadata": {},
   "outputs": [],
   "source": []
  },
  {
   "cell_type": "markdown",
   "id": "c6ea72ca",
   "metadata": {},
   "source": [
    "## Alıştırma 2\n",
    "'---data science---' ifadesinin başındaki ve sonundaki '-' ifadelerini temizleyiniz."
   ]
  },
  {
   "cell_type": "code",
   "execution_count": null,
   "id": "459d74c4",
   "metadata": {},
   "outputs": [],
   "source": []
  },
  {
   "cell_type": "markdown",
   "id": "e8d67928",
   "metadata": {},
   "source": [
    "## Alıştırma 3\n",
    "\n",
    "[98, 45, 56, 19, 24, 31, 43] listesindeki ilk eleman ve sondan 3. eleman arasındaki farkı bulunuz. Bulduğunuz sonucu listeye ekleyiniz."
   ]
  },
  {
   "cell_type": "code",
   "execution_count": null,
   "id": "80b24d27",
   "metadata": {},
   "outputs": [],
   "source": []
  },
  {
   "cell_type": "code",
   "execution_count": null,
   "id": "dbfeb4aa",
   "metadata": {},
   "outputs": [],
   "source": []
  },
  {
   "cell_type": "code",
   "execution_count": null,
   "id": "89d48978",
   "metadata": {},
   "outputs": [],
   "source": []
  },
  {
   "cell_type": "markdown",
   "id": "d3ed8aba",
   "metadata": {},
   "source": [
    "## 6. Koşullar & Döngüler\n",
    "\n",
    "Koşullar ve döngüler python programlama dilinde sıklıkla kullanılan yapılardır.\n",
    "\n",
    "## 6.1. Mantıksal Değerler (Boolean)\n",
    "\n",
    "- Python programlama dilinde yer alan sadece **True** ya da **False** değerlerini alabilen mantıksal bir veri tipidir.\n",
    "- Bir değer 0 ise **False**, 0 değil ise **True** olarak geçmektedir."
   ]
  },
  {
   "cell_type": "code",
   "execution_count": 100,
   "id": "55fffab4",
   "metadata": {},
   "outputs": [
    {
     "name": "stdout",
     "output_type": "stream",
     "text": [
      "<class 'bool'>\n"
     ]
    }
   ],
   "source": [
    "#Boolean tipinde bir değişken oluşturalım\n",
    "a = True\n",
    "\n",
    "print(type(a))"
   ]
  },
  {
   "cell_type": "code",
   "execution_count": 101,
   "id": "bb46b0f4",
   "metadata": {},
   "outputs": [
    {
     "name": "stdout",
     "output_type": "stream",
     "text": [
      "<class 'bool'>\n"
     ]
    }
   ],
   "source": [
    "b = False\n",
    "\n",
    "print(type(b))"
   ]
  },
  {
   "cell_type": "code",
   "execution_count": 102,
   "id": "57a9cc84",
   "metadata": {},
   "outputs": [
    {
     "data": {
      "text/plain": [
       "False"
      ]
     },
     "execution_count": 102,
     "metadata": {},
     "output_type": "execute_result"
    }
   ],
   "source": [
    "#0 olan bir boolean oluşturalım\n",
    "\n",
    "bool(0)"
   ]
  },
  {
   "cell_type": "code",
   "execution_count": 103,
   "id": "37408ad1",
   "metadata": {},
   "outputs": [
    {
     "data": {
      "text/plain": [
       "True"
      ]
     },
     "execution_count": 103,
     "metadata": {},
     "output_type": "execute_result"
    }
   ],
   "source": [
    "#0 olmayan bir boolean oluşturalım\n",
    "\n",
    "bool(14)"
   ]
  },
  {
   "cell_type": "code",
   "execution_count": 104,
   "id": "a9b91499",
   "metadata": {},
   "outputs": [
    {
     "data": {
      "text/plain": [
       "True"
      ]
     },
     "execution_count": 104,
     "metadata": {},
     "output_type": "execute_result"
    }
   ],
   "source": [
    "#0 olmayan bir boolean oluşturalım\n",
    "\n",
    "bool(-82)"
   ]
  },
  {
   "cell_type": "markdown",
   "id": "98b9b9c1",
   "metadata": {},
   "source": [
    "## 6.2. Mantıksal Operatörler\n",
    "\n",
    "Karşılaştırma durumlarında kullanılırlar.\n",
    "\n",
    "- **>**: Büyüktür\n",
    "- **<**: Küçüktür\n",
    "- **==**: Eşittir\n",
    "- **>=**: Büyük veya eşittir\n",
    "- **<=**: Küçük veya eşittir\n",
    "- **!=**: Eşit değildir"
   ]
  },
  {
   "cell_type": "code",
   "execution_count": 105,
   "id": "38725776",
   "metadata": {},
   "outputs": [
    {
     "data": {
      "text/plain": [
       "True"
      ]
     },
     "execution_count": 105,
     "metadata": {},
     "output_type": "execute_result"
    }
   ],
   "source": [
    "#Basit bir mantıksal yapı yazalım\n",
    "\n",
    "a = 3\n",
    "b = 4\n",
    "\n",
    "a < b"
   ]
  },
  {
   "cell_type": "code",
   "execution_count": 106,
   "id": "1a4a4093",
   "metadata": {},
   "outputs": [
    {
     "data": {
      "text/plain": [
       "True"
      ]
     },
     "execution_count": 106,
     "metadata": {},
     "output_type": "execute_result"
    }
   ],
   "source": [
    "a + b > 5"
   ]
  },
  {
   "cell_type": "code",
   "execution_count": 107,
   "id": "f3a34a58",
   "metadata": {},
   "outputs": [
    {
     "data": {
      "text/plain": [
       "True"
      ]
     },
     "execution_count": 107,
     "metadata": {},
     "output_type": "execute_result"
    }
   ],
   "source": [
    "a + b >= 7"
   ]
  },
  {
   "cell_type": "code",
   "execution_count": 108,
   "id": "318b4a09",
   "metadata": {},
   "outputs": [
    {
     "data": {
      "text/plain": [
       "True"
      ]
     },
     "execution_count": 108,
     "metadata": {},
     "output_type": "execute_result"
    }
   ],
   "source": [
    "#Metinsel değerler barındıran bir mantıksal yapı yazalım\n",
    "\n",
    "a = 'data'\n",
    "b = 'data'\n",
    "\n",
    "a == b"
   ]
  },
  {
   "cell_type": "markdown",
   "id": "f0908564",
   "metadata": {},
   "source": [
    "- Çoklu koşul belirtirken **and** ya da **or** mantıksal bağlaçları kullanılabilir.\n",
    "- **and** ile bağlanan tüm ifadeler True ise True döner, **en az biri False ise False** döner\n",
    "- **or** ile bağlanan tüm ifadelerde **en az bir True varsa True** döner, tamamı False ise False döner."
   ]
  },
  {
   "cell_type": "code",
   "execution_count": 109,
   "id": "fb01e456",
   "metadata": {},
   "outputs": [
    {
     "data": {
      "text/plain": [
       "True"
      ]
     },
     "execution_count": 109,
     "metadata": {},
     "output_type": "execute_result"
    }
   ],
   "source": [
    "#Çoklu Koşul\n",
    "\n",
    "3 > 2 and 4 == 4"
   ]
  },
  {
   "cell_type": "code",
   "execution_count": 110,
   "id": "025d4224",
   "metadata": {},
   "outputs": [
    {
     "data": {
      "text/plain": [
       "True"
      ]
     },
     "execution_count": 110,
     "metadata": {},
     "output_type": "execute_result"
    }
   ],
   "source": [
    "#Or Kullanımı\n",
    "\n",
    "3 > 2 or 4 == 4"
   ]
  },
  {
   "cell_type": "code",
   "execution_count": 111,
   "id": "43a21029",
   "metadata": {},
   "outputs": [
    {
     "data": {
      "text/plain": [
       "True"
      ]
     },
     "execution_count": 111,
     "metadata": {},
     "output_type": "execute_result"
    }
   ],
   "source": [
    "3 < 2 or 4 == 4"
   ]
  },
  {
   "cell_type": "code",
   "execution_count": 112,
   "id": "5c762704",
   "metadata": {},
   "outputs": [
    {
     "data": {
      "text/plain": [
       "False"
      ]
     },
     "execution_count": 112,
     "metadata": {},
     "output_type": "execute_result"
    }
   ],
   "source": [
    "3 < 2 or 4 != 4"
   ]
  },
  {
   "cell_type": "code",
   "execution_count": 113,
   "id": "be3ac213",
   "metadata": {},
   "outputs": [
    {
     "data": {
      "text/plain": [
       "False"
      ]
     },
     "execution_count": 113,
     "metadata": {},
     "output_type": "execute_result"
    }
   ],
   "source": [
    "#Or Kullanımı\n",
    "\n",
    "2 > 2 or 3 == 4"
   ]
  },
  {
   "cell_type": "code",
   "execution_count": 114,
   "id": "0c7170cc",
   "metadata": {},
   "outputs": [
    {
     "data": {
      "text/plain": [
       "True"
      ]
     },
     "execution_count": 114,
     "metadata": {},
     "output_type": "execute_result"
    }
   ],
   "source": [
    "3 > 2 and 4 == 4 and 'sercan' == 'sercan'"
   ]
  },
  {
   "cell_type": "code",
   "execution_count": 115,
   "id": "2f641752",
   "metadata": {},
   "outputs": [
    {
     "data": {
      "text/plain": [
       "False"
      ]
     },
     "execution_count": 115,
     "metadata": {},
     "output_type": "execute_result"
    }
   ],
   "source": [
    "3 > 2 and 4 == 4 and 'sercan' == 'sercaN'"
   ]
  },
  {
   "cell_type": "markdown",
   "id": "3605155b",
   "metadata": {},
   "source": [
    "## Alıştırma 4\n",
    "\n",
    "Mantıksal yapılar kullanılarak hazırlanmış kodların çıktılarını tahmin ediniz."
   ]
  },
  {
   "cell_type": "code",
   "execution_count": 116,
   "id": "8e300e17",
   "metadata": {},
   "outputs": [],
   "source": [
    "a = 5\n",
    "b = 4\n",
    "\n",
    "#a > b"
   ]
  },
  {
   "cell_type": "code",
   "execution_count": 117,
   "id": "feb8c9af",
   "metadata": {},
   "outputs": [],
   "source": [
    "c = 'DATA'\n",
    "d = 'data'\n",
    "\n",
    "#c == d"
   ]
  },
  {
   "cell_type": "code",
   "execution_count": 118,
   "id": "ce431c86",
   "metadata": {},
   "outputs": [],
   "source": [
    "e = 15\n",
    "f = 15\n",
    "g = 23\n",
    "\n",
    "#(e <= e) and g < (e + f)"
   ]
  },
  {
   "cell_type": "code",
   "execution_count": 119,
   "id": "15998679",
   "metadata": {},
   "outputs": [],
   "source": [
    "#12 > 16 or 13 < 14"
   ]
  },
  {
   "cell_type": "code",
   "execution_count": 120,
   "id": "e166322d",
   "metadata": {},
   "outputs": [],
   "source": [
    "#12 > 16 and 13 < 14"
   ]
  },
  {
   "cell_type": "markdown",
   "id": "eb7ada9f",
   "metadata": {},
   "source": [
    "## 6.3. Koşullu Durumlar: If-Elif-Else Blokları\n",
    "\n",
    "- Bir koşulun **True** ya da **False** olan sonucuna göre farklı kod blokları oluşturmak için If komutunu kullanırız."
   ]
  },
  {
   "cell_type": "code",
   "execution_count": 121,
   "id": "7aecb1ab",
   "metadata": {},
   "outputs": [
    {
     "name": "stdout",
     "output_type": "stream",
     "text": [
      "sercan\n"
     ]
    }
   ],
   "source": [
    "if True:\n",
    "    print('sercan')"
   ]
  },
  {
   "cell_type": "code",
   "execution_count": 122,
   "id": "85383cf9",
   "metadata": {},
   "outputs": [],
   "source": [
    "if False:\n",
    "    print('sercan')"
   ]
  },
  {
   "cell_type": "code",
   "execution_count": 123,
   "id": "0ead6fb4",
   "metadata": {},
   "outputs": [
    {
     "name": "stdout",
     "output_type": "stream",
     "text": [
      "a, b'den büyüktür\n"
     ]
    }
   ],
   "source": [
    "a = 20\n",
    "b = 10\n",
    "\n",
    "if a > b:\n",
    "    print(\"a, b'den büyüktür\")"
   ]
  },
  {
   "cell_type": "code",
   "execution_count": 124,
   "id": "15514035",
   "metadata": {},
   "outputs": [],
   "source": [
    "a = 10\n",
    "b = 20\n",
    "\n",
    "if a > b:\n",
    "    print(\"a, b'den büyüktür\")"
   ]
  },
  {
   "cell_type": "markdown",
   "id": "8b930b17",
   "metadata": {},
   "source": [
    "- Bazen birden fazla koşul yazmak isteriz, bu durumda eğer ilk if bloğundaki koşul **False** değer üretirse **elif** bloğunda tanımladığımız koşula bakılır."
   ]
  },
  {
   "cell_type": "code",
   "execution_count": 125,
   "id": "db3b009f",
   "metadata": {},
   "outputs": [
    {
     "name": "stdout",
     "output_type": "stream",
     "text": [
      "b, a'dan büyüktür\n"
     ]
    }
   ],
   "source": [
    "a = 10\n",
    "b = 20\n",
    "\n",
    "if a > b:\n",
    "    print(\"a, b'den büyüktür\") #False\n",
    "elif a < b:\n",
    "    print(\"b, a'dan büyüktür\") #True"
   ]
  },
  {
   "cell_type": "code",
   "execution_count": 126,
   "id": "ba7ca3fe",
   "metadata": {},
   "outputs": [],
   "source": [
    "a = 10\n",
    "b = 10\n",
    "\n",
    "if a > b:\n",
    "    print(\"a, b'den büyüktür\")\n",
    "elif a < b:\n",
    "    print(\"b, a'dan büyüktür\")"
   ]
  },
  {
   "cell_type": "code",
   "execution_count": 127,
   "id": "97a8b2c6",
   "metadata": {},
   "outputs": [
    {
     "name": "stdout",
     "output_type": "stream",
     "text": [
      "a, 25'den küçüktür\n",
      "a, 30'den küçüktür\n"
     ]
    }
   ],
   "source": [
    "#if-elif farkı\n",
    "\n",
    "a = 20\n",
    "\n",
    "if a < 25:\n",
    "    print(\"a, 25'den küçüktür\")\n",
    "if a < 30:\n",
    "    print(\"a, 30'den küçüktür\")"
   ]
  },
  {
   "cell_type": "code",
   "execution_count": 128,
   "id": "39cc675a",
   "metadata": {},
   "outputs": [
    {
     "name": "stdout",
     "output_type": "stream",
     "text": [
      "a, 25'den küçüktür\n"
     ]
    }
   ],
   "source": [
    "if a < 25:\n",
    "    print(\"a, 25'den küçüktür\")\n",
    "elif a < 30:\n",
    "    print(\"a, 30'den küçüktür\")"
   ]
  },
  {
   "cell_type": "markdown",
   "id": "e24b1d38",
   "metadata": {},
   "source": [
    "- **elif** bloğu öncesinde yer alan koşul gerçekleştiyse çalışmaz, aynı durum **if** bloğu için geçerli değildir."
   ]
  },
  {
   "cell_type": "code",
   "execution_count": 129,
   "id": "47c84470",
   "metadata": {},
   "outputs": [
    {
     "name": "stdout",
     "output_type": "stream",
     "text": [
      "a ve b eşittir\n"
     ]
    }
   ],
   "source": [
    "a = 10\n",
    "b = 10\n",
    "\n",
    "if a > b:\n",
    "    print(\"a, b'den büyüktür\")\n",
    "elif a < b:\n",
    "    print(\"b, a'dan büyüktür\")\n",
    "else:\n",
    "    print(\"a ve b eşittir\")"
   ]
  },
  {
   "cell_type": "markdown",
   "id": "09afd661",
   "metadata": {},
   "source": [
    "- **else** ve **elif** bloklarındaki koşullardan her hangi biri **True** değilse bir **else** bloğu oluşturup Else bloğundaki kodların çalıştırılmasını sağlayabiliriz."
   ]
  },
  {
   "cell_type": "markdown",
   "id": "1a7e33f8",
   "metadata": {},
   "source": [
    "## 6.4. Döngüler\n",
    "\n",
    "- Belirli koşullarda çalışmaya devam eden yapılara **döngü** denir.\n",
    "\n",
    "- Python programlama dilinde bir döngü başlatmak için **for** ve **while** ifadeleri kullanılabilir.\n",
    "\n",
    "- **for döngüsü**, listelerin ,demetlerin, stringlerin ve hatta sözlüklerin üzerinde dolaşmamızı sağlayan bir döngü türüdür.\n",
    "\n",
    "- **while döngüleri** belli bir koşul sağlandığı sürece bloğundaki işlemleri gerçekleştirmeye devam eder."
   ]
  },
  {
   "cell_type": "code",
   "execution_count": 130,
   "id": "6024a69a",
   "metadata": {},
   "outputs": [
    {
     "name": "stdout",
     "output_type": "stream",
     "text": [
      "1\n",
      "2\n",
      "3\n",
      "4\n",
      "5\n"
     ]
    }
   ],
   "source": [
    "#Bir for döngüsü oluşturalım\n",
    "\n",
    "sayılar = [1, 2, 3, 4, 5]\n",
    "\n",
    "for sayı in sayılar:\n",
    "    print(sayı)"
   ]
  },
  {
   "cell_type": "code",
   "execution_count": 131,
   "id": "7300ca70",
   "metadata": {},
   "outputs": [
    {
     "name": "stdout",
     "output_type": "stream",
     "text": [
      "sercan\n",
      "ali\n",
      "veli\n",
      "ayşe\n"
     ]
    }
   ],
   "source": [
    "isimler = ['sercan', 'ali', 'veli', 'ayşe']\n",
    "\n",
    "for isim in isimler:\n",
    "    print(isim)"
   ]
  },
  {
   "cell_type": "code",
   "execution_count": 132,
   "id": "3e18e08e",
   "metadata": {},
   "outputs": [
    {
     "name": "stdout",
     "output_type": "stream",
     "text": [
      "s\n",
      "e\n",
      "r\n",
      "c\n",
      "a\n",
      "n\n"
     ]
    }
   ],
   "source": [
    "#For döngüsü ile bir string ifade içinde gezelim\n",
    "isim = 'sercan'\n",
    "\n",
    "for harf in isim:\n",
    "    print(harf)"
   ]
  },
  {
   "cell_type": "code",
   "execution_count": 133,
   "id": "cff886b8",
   "metadata": {},
   "outputs": [
    {
     "name": "stdout",
     "output_type": "stream",
     "text": [
      "sercan\n",
      "mehmet\n",
      "ayşe\n"
     ]
    }
   ],
   "source": [
    "#For döngüsü ile bir sözlük içinde gezelim\n",
    "age = {'sercan': 24,\n",
    "       'mehmet': 35,\n",
    "       'ayşe': 28}\n",
    "\n",
    "for i in age:\n",
    "    print(i)"
   ]
  },
  {
   "cell_type": "markdown",
   "id": "c5fac82f",
   "metadata": {},
   "source": [
    "- Bir sözlük üzerinde **for döngüsü** ile gezildiği zaman o sözlüğün **anahtar değerlerini** dönecektir."
   ]
  },
  {
   "cell_type": "code",
   "execution_count": 134,
   "id": "3e03e930",
   "metadata": {},
   "outputs": [
    {
     "name": "stdout",
     "output_type": "stream",
     "text": [
      "24\n",
      "35\n",
      "28\n"
     ]
    }
   ],
   "source": [
    "for i in age.values():\n",
    "    print(i)"
   ]
  },
  {
   "cell_type": "code",
   "execution_count": 135,
   "id": "23a88b80",
   "metadata": {},
   "outputs": [
    {
     "name": "stdout",
     "output_type": "stream",
     "text": [
      "('sercan', 24)\n",
      "('mehmet', 35)\n",
      "('ayşe', 28)\n"
     ]
    }
   ],
   "source": [
    "#Hem Anahtar hem değeri dönmek için\n",
    "for i in age.items():\n",
    "    print(i)"
   ]
  },
  {
   "cell_type": "markdown",
   "id": "3589c249",
   "metadata": {},
   "source": [
    "## Alıştırma 5\n",
    "\n",
    "[12, 13, 14, 15, 16] listesinde for döngüsü ile gezip her elemanı 3 ile toplayıp yazıdırınız."
   ]
  },
  {
   "cell_type": "code",
   "execution_count": null,
   "id": "adc90edc",
   "metadata": {},
   "outputs": [],
   "source": []
  },
  {
   "cell_type": "markdown",
   "id": "fbf9a3e0",
   "metadata": {},
   "source": [
    "## Alıştırma 6\n",
    "\n",
    "[12, 9, 13, 11, 10, -5, 6] listesinde 10 dan küçük olan sayıları yazdırınız. (for + if)"
   ]
  },
  {
   "cell_type": "code",
   "execution_count": null,
   "id": "c399a0ae",
   "metadata": {},
   "outputs": [],
   "source": []
  },
  {
   "cell_type": "code",
   "execution_count": 136,
   "id": "08197f26",
   "metadata": {},
   "outputs": [
    {
     "name": "stdout",
     "output_type": "stream",
     "text": [
      "Sayı: 1\n",
      "Sayı: 2\n",
      "Sayı: 3\n",
      "Sayı: 4\n",
      "Sayı: 5\n",
      "Sayı: 6\n",
      "Sayı: 7\n",
      "Sayı: 8\n",
      "Sayı: 9\n"
     ]
    }
   ],
   "source": [
    "#Bir while döngüsü oluşturalım\n",
    "sayı = 1\n",
    "\n",
    "while sayı < 10:\n",
    "    print('Sayı:',sayı)\n",
    "    sayı = sayı + 1"
   ]
  },
  {
   "cell_type": "code",
   "execution_count": 137,
   "id": "c69b9dc0",
   "metadata": {},
   "outputs": [
    {
     "name": "stdout",
     "output_type": "stream",
     "text": [
      "Data Science\n",
      "Data Science\n",
      "Data Science\n",
      "Data Science\n"
     ]
    }
   ],
   "source": [
    "sayı = 1\n",
    "\n",
    "while sayı < 5:\n",
    "    print('Data Science')\n",
    "    sayı = sayı + 1"
   ]
  },
  {
   "cell_type": "markdown",
   "id": "d9b234fd",
   "metadata": {},
   "source": [
    "- **while** döngüsü kullanırken dikkatli olmalıyız çünkü döngünün sonlanması için belirlenen koşulun bir süre sonra **False** olması gerekir. Koşulu, bir süre sonra bozan bir yapı hazırlanmazsa döngü sonsuza kadar çalışacaktır, buna **sonsuz döngü** denmektedir."
   ]
  },
  {
   "cell_type": "markdown",
   "id": "4448a4ac",
   "metadata": {},
   "source": [
    "## 7. Fonksiyonlar\n",
    "\n",
    "- Programlamada ortamında belirli amaçlar doğrultusunda yazılan ve tekrar tekrar kullanılan yapılardır. \n",
    "- Python programlama dilinde bir fonksiyon **def** ifadesi ile tanımlanabilir.\n",
    "- **def** ifadesinden sonra fonksiyonun adı belirtilir.\n",
    "- Fonksiyonun alacağı parametreler için fonksiyon isminden sonra parantez açılır."
   ]
  },
  {
   "cell_type": "code",
   "execution_count": 138,
   "id": "6bfd136a",
   "metadata": {},
   "outputs": [
    {
     "name": "stdout",
     "output_type": "stream",
     "text": [
      "Merhaba\n"
     ]
    }
   ],
   "source": [
    "#Bir fonksiyon tanımlayalım\n",
    "\n",
    "def selam_ver():\n",
    "    print('Merhaba')\n",
    "\n",
    "selam_ver()"
   ]
  },
  {
   "cell_type": "code",
   "execution_count": 139,
   "id": "0a9bfe28",
   "metadata": {},
   "outputs": [
    {
     "name": "stdout",
     "output_type": "stream",
     "text": [
      "Merhaba Sercan\n"
     ]
    }
   ],
   "source": [
    "#Selam ver fonksiyonuna bir isim parametresi ekleyelim\n",
    "\n",
    "def selam_ver(isim):\n",
    "    print('Merhaba', isim)\n",
    "\n",
    "selam_ver('Sercan')"
   ]
  },
  {
   "cell_type": "code",
   "execution_count": 140,
   "id": "4c627f33",
   "metadata": {},
   "outputs": [],
   "source": [
    "#topla isminde girilen 2 sayıyı toplayıp yazdıran bir fonksiyon tanımlayalım\n",
    "\n",
    "def topla(a, b):\n",
    "    print('Girilen sayıların toplamı:',a+b)"
   ]
  },
  {
   "cell_type": "code",
   "execution_count": 141,
   "id": "37aa9e58",
   "metadata": {},
   "outputs": [
    {
     "name": "stdout",
     "output_type": "stream",
     "text": [
      "Girilen sayıların toplamı: 8\n"
     ]
    }
   ],
   "source": [
    "topla(3, 5)"
   ]
  },
  {
   "cell_type": "code",
   "execution_count": 142,
   "id": "949cd173",
   "metadata": {},
   "outputs": [
    {
     "name": "stdout",
     "output_type": "stream",
     "text": [
      "Girilen sayıların farkı: 11\n"
     ]
    }
   ],
   "source": [
    "#cikar isminde girilen 2 sayının farkını yazdıran bir fonksiyon tanımlayalım\n",
    "def cikar(a, b):\n",
    "    print('Girilen sayıların farkı:', a-b)\n",
    "    \n",
    "cikar(16, 5)"
   ]
  },
  {
   "cell_type": "code",
   "execution_count": 143,
   "id": "56a5dcca",
   "metadata": {},
   "outputs": [
    {
     "name": "stdout",
     "output_type": "stream",
     "text": [
      "Girilen sayıların farkı: 5\n"
     ]
    }
   ],
   "source": [
    "cikar(10, 5)"
   ]
  },
  {
   "cell_type": "code",
   "execution_count": 144,
   "id": "57d91106",
   "metadata": {},
   "outputs": [
    {
     "name": "stdout",
     "output_type": "stream",
     "text": [
      "Girilen sayı 10'dan küçüktür!\n"
     ]
    }
   ],
   "source": [
    "#Girilen sayının 10 dan küçük olup olmaması durumunu yazdıran bir fonksiyon tanımlayalım\n",
    "def ondan_kucukmu(sayı):\n",
    "    \n",
    "    if sayı < 10:\n",
    "        print(\"Girilen sayı 10'dan küçüktür!\")\n",
    "    elif sayı > 10:\n",
    "        print(\"Girilen sayı 10'dan büyüktür!\")\n",
    "    else:\n",
    "        print(\"Girilen sayı 10'a eşittir!\")\n",
    "        \n",
    "ondan_kucukmu(9)"
   ]
  },
  {
   "cell_type": "code",
   "execution_count": 145,
   "id": "c40f7cec",
   "metadata": {},
   "outputs": [
    {
     "name": "stdout",
     "output_type": "stream",
     "text": [
      "Girilen sayı 10'dan büyüktür!\n"
     ]
    }
   ],
   "source": [
    "ondan_kucukmu(12)"
   ]
  },
  {
   "cell_type": "code",
   "execution_count": 146,
   "id": "0093892a",
   "metadata": {},
   "outputs": [
    {
     "name": "stdout",
     "output_type": "stream",
     "text": [
      "Girilen sayı 10'dan küçüktür!\n"
     ]
    }
   ],
   "source": [
    "ondan_kucukmu(-500)"
   ]
  },
  {
   "cell_type": "code",
   "execution_count": 147,
   "id": "f596619d",
   "metadata": {},
   "outputs": [
    {
     "name": "stdout",
     "output_type": "stream",
     "text": [
      "Girilen sayı 10'a eşittir!\n"
     ]
    }
   ],
   "source": [
    "ondan_kucukmu(10)"
   ]
  },
  {
   "cell_type": "markdown",
   "id": "f6477c05",
   "metadata": {},
   "source": [
    "## Alıştırma 7\n",
    "\n",
    "- Girilen sayının faktöriyel değerini hesaplayıp yazdıran bir fonksiyon tasarlayınız.\n",
    "- 0'ın ve 1'in faktöriyeli **1**'dir.\n",
    "- Faktöriyel negatif sayılar için tanımsızdır."
   ]
  },
  {
   "cell_type": "code",
   "execution_count": null,
   "id": "7c346c35",
   "metadata": {},
   "outputs": [],
   "source": []
  },
  {
   "cell_type": "code",
   "execution_count": null,
   "id": "7f647240",
   "metadata": {},
   "outputs": [],
   "source": []
  },
  {
   "cell_type": "code",
   "execution_count": null,
   "id": "aefc514e",
   "metadata": {},
   "outputs": [],
   "source": []
  },
  {
   "cell_type": "code",
   "execution_count": null,
   "id": "8951c8a3",
   "metadata": {},
   "outputs": [],
   "source": []
  },
  {
   "cell_type": "code",
   "execution_count": null,
   "id": "c2b90bfd",
   "metadata": {},
   "outputs": [],
   "source": []
  },
  {
   "cell_type": "code",
   "execution_count": null,
   "id": "f9a8d019",
   "metadata": {},
   "outputs": [],
   "source": []
  },
  {
   "cell_type": "code",
   "execution_count": null,
   "id": "fe1758de",
   "metadata": {},
   "outputs": [],
   "source": []
  },
  {
   "cell_type": "code",
   "execution_count": null,
   "id": "a846ccba",
   "metadata": {},
   "outputs": [],
   "source": []
  },
  {
   "cell_type": "code",
   "execution_count": 148,
   "id": "9f65489c",
   "metadata": {},
   "outputs": [],
   "source": [
    "#Bir fonksiyonun çıktısını başka bir fonksyonda kullanalım\n",
    "\n",
    "def topla(a,b):\n",
    "    print(a+b)\n",
    "    \n",
    "def cikar(a,b):\n",
    "    print(a-b)"
   ]
  },
  {
   "cell_type": "code",
   "execution_count": 149,
   "id": "d768b945",
   "metadata": {},
   "outputs": [
    {
     "name": "stdout",
     "output_type": "stream",
     "text": [
      "7\n"
     ]
    },
    {
     "ename": "TypeError",
     "evalue": "unsupported operand type(s) for -: 'NoneType' and 'int'",
     "output_type": "error",
     "traceback": [
      "\u001b[0;31m---------------------------------------------------------------------------\u001b[0m",
      "\u001b[0;31mTypeError\u001b[0m                                 Traceback (most recent call last)",
      "\u001b[0;32m/var/folders/67/wq_xsymd3jvc5w2fx1ld_18h0000gn/T/ipykernel_98043/627391790.py\u001b[0m in \u001b[0;36m<module>\u001b[0;34m\u001b[0m\n\u001b[0;32m----> 1\u001b[0;31m \u001b[0mcikar\u001b[0m\u001b[0;34m(\u001b[0m\u001b[0mtopla\u001b[0m\u001b[0;34m(\u001b[0m\u001b[0;36m3\u001b[0m\u001b[0;34m,\u001b[0m \u001b[0;36m4\u001b[0m\u001b[0;34m)\u001b[0m\u001b[0;34m,\u001b[0m \u001b[0;36m5\u001b[0m\u001b[0;34m)\u001b[0m\u001b[0;34m\u001b[0m\u001b[0;34m\u001b[0m\u001b[0m\n\u001b[0m",
      "\u001b[0;32m/var/folders/67/wq_xsymd3jvc5w2fx1ld_18h0000gn/T/ipykernel_98043/1020882503.py\u001b[0m in \u001b[0;36mcikar\u001b[0;34m(a, b)\u001b[0m\n\u001b[1;32m      5\u001b[0m \u001b[0;34m\u001b[0m\u001b[0m\n\u001b[1;32m      6\u001b[0m \u001b[0;32mdef\u001b[0m \u001b[0mcikar\u001b[0m\u001b[0;34m(\u001b[0m\u001b[0ma\u001b[0m\u001b[0;34m,\u001b[0m\u001b[0mb\u001b[0m\u001b[0;34m)\u001b[0m\u001b[0;34m:\u001b[0m\u001b[0;34m\u001b[0m\u001b[0;34m\u001b[0m\u001b[0m\n\u001b[0;32m----> 7\u001b[0;31m     \u001b[0mprint\u001b[0m\u001b[0;34m(\u001b[0m\u001b[0ma\u001b[0m\u001b[0;34m-\u001b[0m\u001b[0mb\u001b[0m\u001b[0;34m)\u001b[0m\u001b[0;34m\u001b[0m\u001b[0;34m\u001b[0m\u001b[0m\n\u001b[0m",
      "\u001b[0;31mTypeError\u001b[0m: unsupported operand type(s) for -: 'NoneType' and 'int'"
     ]
    }
   ],
   "source": [
    "cikar(topla(3, 4), 5)"
   ]
  },
  {
   "cell_type": "code",
   "execution_count": 150,
   "id": "02b27cd1",
   "metadata": {},
   "outputs": [
    {
     "name": "stdout",
     "output_type": "stream",
     "text": [
      "7\n"
     ]
    },
    {
     "data": {
      "text/plain": [
       "NoneType"
      ]
     },
     "execution_count": 150,
     "metadata": {},
     "output_type": "execute_result"
    }
   ],
   "source": [
    "type(topla(3, 4))"
   ]
  },
  {
   "cell_type": "markdown",
   "id": "87d4234a",
   "metadata": {},
   "source": [
    "- **print** ifadesi herhangi bir değer vermez, sadece yazdırma işlemi yapar.\n",
    "- Bir fonksiyonun çıktısını alıp kullanabilmek için **return** ifadesi kullanılır.\n",
    "- **return** ifadesi fonksiyonun işlemi bittikten sonra çağrıldığı yere değer döndürmesi anlamı taşır.\n",
    "- **return** kullanılmayan fonksiyonlara **void fonksiyonlar** denir."
   ]
  },
  {
   "cell_type": "code",
   "execution_count": 151,
   "id": "2322fa1e",
   "metadata": {},
   "outputs": [],
   "source": [
    "#Bir fonksiyonun çıktısını başka bir fonksyonda kullanalım\n",
    "\n",
    "def topla(a,b):\n",
    "    return a+b\n",
    "    \n",
    "def cikar(a,b):\n",
    "    return a-b"
   ]
  },
  {
   "cell_type": "code",
   "execution_count": 152,
   "id": "c68dfc9e",
   "metadata": {},
   "outputs": [
    {
     "name": "stdout",
     "output_type": "stream",
     "text": [
      "11\n"
     ]
    }
   ],
   "source": [
    "topla_sonuc = topla(3, 5) #8\n",
    "\n",
    "cikar_sonuc = cikar(6, 3) #3\n",
    "\n",
    "print(topla_sonuc + cikar_sonuc)"
   ]
  },
  {
   "cell_type": "code",
   "execution_count": 153,
   "id": "c645d84e",
   "metadata": {},
   "outputs": [
    {
     "data": {
      "text/plain": [
       "int"
      ]
     },
     "execution_count": 153,
     "metadata": {},
     "output_type": "execute_result"
    }
   ],
   "source": [
    "type(topla_sonuc)"
   ]
  },
  {
   "cell_type": "code",
   "execution_count": 154,
   "id": "7d5394a5",
   "metadata": {},
   "outputs": [
    {
     "data": {
      "text/plain": [
       "int"
      ]
     },
     "execution_count": 154,
     "metadata": {},
     "output_type": "execute_result"
    }
   ],
   "source": [
    "type(cikar_sonuc)"
   ]
  },
  {
   "cell_type": "markdown",
   "id": "ea66ee9b",
   "metadata": {},
   "source": [
    "## Alıştırma 8\n",
    "\n",
    "- Girilen sayının asal olup olmadığını dönen bir fonksiyon yazınız.\n",
    "- 1 asal sayı değildir, 2 asal sayıdır.\n",
    "- 1'e ve kendisinden başka sayıya bölünmeyen sayılar **asal sayılar**dır.\n",
    "- Python programlama dilinde bölümden kalanı **%** operatörü verir."
   ]
  },
  {
   "cell_type": "code",
   "execution_count": null,
   "id": "b5197fc8",
   "metadata": {},
   "outputs": [],
   "source": []
  },
  {
   "cell_type": "code",
   "execution_count": null,
   "id": "be1cf688",
   "metadata": {},
   "outputs": [],
   "source": []
  },
  {
   "cell_type": "code",
   "execution_count": null,
   "id": "4ee72b5a",
   "metadata": {},
   "outputs": [],
   "source": []
  },
  {
   "cell_type": "code",
   "execution_count": null,
   "id": "3afc6492",
   "metadata": {},
   "outputs": [],
   "source": []
  },
  {
   "cell_type": "code",
   "execution_count": null,
   "id": "d2f8b805",
   "metadata": {},
   "outputs": [],
   "source": []
  },
  {
   "cell_type": "code",
   "execution_count": null,
   "id": "b858c7bf",
   "metadata": {},
   "outputs": [],
   "source": []
  },
  {
   "cell_type": "markdown",
   "id": "c32199a1",
   "metadata": {},
   "source": [
    "## Alıştırma 9: Yaş Tahmini Oyunu\n",
    "\n",
    "- **numPy** kütüphanesini kullanarak 18-45 arası rasgele bir değer seçip bu değeri yaş olarak kabul eden, 5 tahmin hakkı veren ve her yanlış tahminde tahmini 1 azaltan, doğru tahminde kullanıcının kazandığı, tahmin hakkı bittiğinde ise kullanıcının kaybettiği bilgisini veren bir fonksiyon yazınız."
   ]
  },
  {
   "cell_type": "code",
   "execution_count": null,
   "id": "8bb563a6",
   "metadata": {},
   "outputs": [],
   "source": []
  },
  {
   "cell_type": "code",
   "execution_count": 155,
   "id": "ccc76c1a",
   "metadata": {},
   "outputs": [],
   "source": [
    "#random.randint aracı rasgele belirtilen aralıklarda rasgele bir sayı döner, son girilen değer dahil değildir\n"
   ]
  },
  {
   "cell_type": "code",
   "execution_count": null,
   "id": "feb6c111",
   "metadata": {},
   "outputs": [],
   "source": []
  },
  {
   "cell_type": "code",
   "execution_count": null,
   "id": "af6d9fbe",
   "metadata": {},
   "outputs": [],
   "source": []
  },
  {
   "cell_type": "markdown",
   "id": "441cd6c7",
   "metadata": {},
   "source": [
    "## Kaynakça\n",
    "\n",
    "- https://www.isnet.net.tr/BlogIcerik/Phyton-Programlama-Nedir-isnetblog\n",
    "\n",
    "- https://bilginc.com/tr/blog/python-nedir-python-hakkinda-hersey-158/\n",
    "\n",
    "- https://teknoloji.org/python-nedir/\n",
    "\n",
    "- https://medium.com/@urhanozgur67/python-list-veri-tipi-ve-yard%C4%B1mc%C4%B1-fonksiyonlar%C4%B1-bf0d7e600bba\n",
    "\n",
    "- https://www.digitalocean.com/community/tutorials/python-trim-string-rstrip-lstrip-strip\n",
    "\n",
    "- https://github.com/mustafamuratcoskun/Sifirdan-Ileri-Seviyeye-Python-Programlama/tree/master/D%C3%B6ng%C3%BCler\n",
    "\n",
    "- https://www.sadikturan.com/python-kosul-ifadeleri/python-kosul-ifadeleri/1386"
   ]
  }
 ],
 "metadata": {
  "kernelspec": {
   "display_name": "Python 3 (ipykernel)",
   "language": "python",
   "name": "python3"
  },
  "language_info": {
   "codemirror_mode": {
    "name": "ipython",
    "version": 3
   },
   "file_extension": ".py",
   "mimetype": "text/x-python",
   "name": "python",
   "nbconvert_exporter": "python",
   "pygments_lexer": "ipython3",
   "version": "3.9.13"
  }
 },
 "nbformat": 4,
 "nbformat_minor": 5
}
