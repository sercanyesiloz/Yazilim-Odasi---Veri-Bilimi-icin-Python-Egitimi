{
 "cells": [
  {
   "cell_type": "markdown",
   "id": "dd800635",
   "metadata": {},
   "source": [
    "# Veri Bilimi için Python: Pandas\n",
    "\n",
    "## 1. Pandas Nedir?\n",
    "\n",
    "**Pandas**, Python programlama dilinde yüksek performanslı, kullanımı kolay **veri yapıları** ve **veri analiz araçları** sağlayan açık kaynaklı bir kütüphanedir.\n",
    "\n",
    "\n",
    "## 2. Pandas ile Neler Yapılabilir?\n",
    "- Farklı formatta pek çok dosya (csv, xlsx, parquet, sql, ...) okunabilir.\n",
    "\n",
    "- Bir veri setinde satırlar ve sütunlar bazında işlemler yapılabilir.\n",
    "\n",
    "- İstenilen formatta ve aralıkta veriler üretilebilir.\n",
    "\n",
    "- Birden fazla veri yapısı birleştirilebilir."
   ]
  },
  {
   "cell_type": "code",
   "execution_count": 1,
   "id": "9ad9e535",
   "metadata": {},
   "outputs": [],
   "source": [
    "#Pandas kütüphanesini yükleyelim\n",
    "import pandas as pd"
   ]
  },
  {
   "cell_type": "code",
   "execution_count": 2,
   "id": "56c7a95a",
   "metadata": {},
   "outputs": [
    {
     "name": "stdout",
     "output_type": "stream",
     "text": [
      "1.4.4\n"
     ]
    }
   ],
   "source": [
    "#Versiyon kontrolü\n",
    "print(pd.__version__)"
   ]
  },
  {
   "cell_type": "markdown",
   "id": "b01b4ddc",
   "metadata": {},
   "source": [
    "## 3. Pandas Veri Yapıları\n",
    "\n",
    "- Pandas kütüphanesinde veri yapıları üretmek için kullanılan pek çok araç mevcut.\n",
    "\n",
    "- En sık kullanılan veri yapıları Pandas **Series** ve Pandas **DataFrame**'dir.\n",
    "\n",
    "- **Pandas Series** **tek boyutlu** bir yapı sağlarken, **Pandas DataFrame** satırları ve sütunları olan bir veri seti oluşturur.\n",
    "\n",
    "## 3.1. Pandas Series\n",
    "\n",
    "Seri, etiketli verilerden oluşan **tek boyutlu** bir veri yapısıdır. Etiket değerlerine ise **indeks** denir. Verinin kendisi sayılar, dizeler veya başka Python objelerinden oluşabilir. Serileri oluşturmak için ise listeler, sıralı diziler ya da sözlükler kullanılabilir"
   ]
  },
  {
   "cell_type": "code",
   "execution_count": 3,
   "id": "cbb88297",
   "metadata": {},
   "outputs": [
    {
     "data": {
      "text/plain": [
       "pandas.core.series.Series"
      ]
     },
     "execution_count": 3,
     "metadata": {},
     "output_type": "execute_result"
    }
   ],
   "source": [
    "#Bir Pandas Series oluşturalım\n",
    "\n",
    "seri = pd.Series([1, 2, 3, 4, 5])\n",
    "\n",
    "type(seri)"
   ]
  },
  {
   "cell_type": "code",
   "execution_count": 4,
   "id": "66753d2c",
   "metadata": {},
   "outputs": [
    {
     "data": {
      "text/plain": [
       "1"
      ]
     },
     "execution_count": 4,
     "metadata": {},
     "output_type": "execute_result"
    }
   ],
   "source": [
    "#Oluşturduğumuz serinin ilk elemanını seçelim\n",
    "seri[0]"
   ]
  },
  {
   "cell_type": "code",
   "execution_count": 5,
   "id": "d2c43ed1",
   "metadata": {},
   "outputs": [
    {
     "data": {
      "text/plain": [
       "2"
      ]
     },
     "execution_count": 5,
     "metadata": {},
     "output_type": "execute_result"
    }
   ],
   "source": [
    "#Oluşturduğumuz serinin ikinci elemanını seçelim\n",
    "seri[1]"
   ]
  },
  {
   "cell_type": "markdown",
   "id": "777045c2",
   "metadata": {},
   "source": [
    "## 3.2. Pandas DataFrame\n",
    "\n",
    "Satırlardan ve sütunlardan oluşan veri yapılarıdır."
   ]
  },
  {
   "cell_type": "code",
   "execution_count": 6,
   "id": "43dc66ee",
   "metadata": {},
   "outputs": [
    {
     "data": {
      "text/plain": [
       "pandas.core.frame.DataFrame"
      ]
     },
     "execution_count": 6,
     "metadata": {},
     "output_type": "execute_result"
    }
   ],
   "source": [
    "df = pd.DataFrame({'isim': ['sercan', 'ahmet', 'mehmet'],\n",
    "                   'yas': [24, 25, 26]})\n",
    "\n",
    "type(df)"
   ]
  },
  {
   "cell_type": "code",
   "execution_count": 7,
   "id": "166c0c4a",
   "metadata": {},
   "outputs": [
    {
     "name": "stdout",
     "output_type": "stream",
     "text": [
      "     isim  yas cinsiyet  maas\n",
      "0  sercan   24        E  3000\n",
      "1   ahmet   25        E  4500\n",
      "2  mehmet   26        E  3500\n",
      "3    ayşe   27        K  4000\n",
      "4   selin   28        K  5500\n",
      "5   ceren   29        K  3500\n"
     ]
    }
   ],
   "source": [
    "#Bir Pandas DataFrame daha oluşturalım\n",
    "\n",
    "df = pd.DataFrame({\n",
    "                   'isim': ['sercan', 'ahmet', 'mehmet', 'ayşe', 'selin', 'ceren'],\n",
    "                   'yas': [24, 25, 26, 27, 28, 29],\n",
    "                   'cinsiyet': ['E', 'E', 'E', 'K', 'K', 'K'],\n",
    "                   'maas': [3000, 4500, 3500, 4000, 5500, 3500]\n",
    "                  }\n",
    "                 )\n",
    "\n",
    "print(df)"
   ]
  },
  {
   "cell_type": "code",
   "execution_count": 8,
   "id": "d99dc954",
   "metadata": {},
   "outputs": [
    {
     "data": {
      "text/html": [
       "<div>\n",
       "<style scoped>\n",
       "    .dataframe tbody tr th:only-of-type {\n",
       "        vertical-align: middle;\n",
       "    }\n",
       "\n",
       "    .dataframe tbody tr th {\n",
       "        vertical-align: top;\n",
       "    }\n",
       "\n",
       "    .dataframe thead th {\n",
       "        text-align: right;\n",
       "    }\n",
       "</style>\n",
       "<table border=\"1\" class=\"dataframe\">\n",
       "  <thead>\n",
       "    <tr style=\"text-align: right;\">\n",
       "      <th></th>\n",
       "      <th>isim</th>\n",
       "      <th>yas</th>\n",
       "      <th>cinsiyet</th>\n",
       "      <th>maas</th>\n",
       "    </tr>\n",
       "  </thead>\n",
       "  <tbody>\n",
       "    <tr>\n",
       "      <th>0</th>\n",
       "      <td>sercan</td>\n",
       "      <td>24</td>\n",
       "      <td>E</td>\n",
       "      <td>3000</td>\n",
       "    </tr>\n",
       "    <tr>\n",
       "      <th>1</th>\n",
       "      <td>ahmet</td>\n",
       "      <td>25</td>\n",
       "      <td>E</td>\n",
       "      <td>4500</td>\n",
       "    </tr>\n",
       "    <tr>\n",
       "      <th>2</th>\n",
       "      <td>mehmet</td>\n",
       "      <td>26</td>\n",
       "      <td>E</td>\n",
       "      <td>3500</td>\n",
       "    </tr>\n",
       "    <tr>\n",
       "      <th>3</th>\n",
       "      <td>ayşe</td>\n",
       "      <td>27</td>\n",
       "      <td>K</td>\n",
       "      <td>4000</td>\n",
       "    </tr>\n",
       "    <tr>\n",
       "      <th>4</th>\n",
       "      <td>selin</td>\n",
       "      <td>28</td>\n",
       "      <td>K</td>\n",
       "      <td>5500</td>\n",
       "    </tr>\n",
       "  </tbody>\n",
       "</table>\n",
       "</div>"
      ],
      "text/plain": [
       "     isim  yas cinsiyet  maas\n",
       "0  sercan   24        E  3000\n",
       "1   ahmet   25        E  4500\n",
       "2  mehmet   26        E  3500\n",
       "3    ayşe   27        K  4000\n",
       "4   selin   28        K  5500"
      ]
     },
     "execution_count": 8,
     "metadata": {},
     "output_type": "execute_result"
    }
   ],
   "source": [
    "#Veri Setinin ilk 5 gözlemine göz atalım\n",
    "df.head()"
   ]
  },
  {
   "cell_type": "code",
   "execution_count": 9,
   "id": "768e7209",
   "metadata": {},
   "outputs": [
    {
     "data": {
      "text/html": [
       "<div>\n",
       "<style scoped>\n",
       "    .dataframe tbody tr th:only-of-type {\n",
       "        vertical-align: middle;\n",
       "    }\n",
       "\n",
       "    .dataframe tbody tr th {\n",
       "        vertical-align: top;\n",
       "    }\n",
       "\n",
       "    .dataframe thead th {\n",
       "        text-align: right;\n",
       "    }\n",
       "</style>\n",
       "<table border=\"1\" class=\"dataframe\">\n",
       "  <thead>\n",
       "    <tr style=\"text-align: right;\">\n",
       "      <th></th>\n",
       "      <th>isim</th>\n",
       "      <th>yas</th>\n",
       "      <th>cinsiyet</th>\n",
       "      <th>maas</th>\n",
       "    </tr>\n",
       "  </thead>\n",
       "  <tbody>\n",
       "    <tr>\n",
       "      <th>1</th>\n",
       "      <td>ahmet</td>\n",
       "      <td>25</td>\n",
       "      <td>E</td>\n",
       "      <td>4500</td>\n",
       "    </tr>\n",
       "    <tr>\n",
       "      <th>2</th>\n",
       "      <td>mehmet</td>\n",
       "      <td>26</td>\n",
       "      <td>E</td>\n",
       "      <td>3500</td>\n",
       "    </tr>\n",
       "    <tr>\n",
       "      <th>3</th>\n",
       "      <td>ayşe</td>\n",
       "      <td>27</td>\n",
       "      <td>K</td>\n",
       "      <td>4000</td>\n",
       "    </tr>\n",
       "    <tr>\n",
       "      <th>4</th>\n",
       "      <td>selin</td>\n",
       "      <td>28</td>\n",
       "      <td>K</td>\n",
       "      <td>5500</td>\n",
       "    </tr>\n",
       "    <tr>\n",
       "      <th>5</th>\n",
       "      <td>ceren</td>\n",
       "      <td>29</td>\n",
       "      <td>K</td>\n",
       "      <td>3500</td>\n",
       "    </tr>\n",
       "  </tbody>\n",
       "</table>\n",
       "</div>"
      ],
      "text/plain": [
       "     isim  yas cinsiyet  maas\n",
       "1   ahmet   25        E  4500\n",
       "2  mehmet   26        E  3500\n",
       "3    ayşe   27        K  4000\n",
       "4   selin   28        K  5500\n",
       "5   ceren   29        K  3500"
      ]
     },
     "execution_count": 9,
     "metadata": {},
     "output_type": "execute_result"
    }
   ],
   "source": [
    "#Veri Setinin son 5 gözlemine göz atalım\n",
    "df.tail()"
   ]
  },
  {
   "cell_type": "code",
   "execution_count": 10,
   "id": "7ba144ac",
   "metadata": {},
   "outputs": [
    {
     "data": {
      "text/plain": [
       "(6, 4)"
      ]
     },
     "execution_count": 10,
     "metadata": {},
     "output_type": "execute_result"
    }
   ],
   "source": [
    "#Veri setinin satır-sütun bilgisini kontrol edelim\n",
    "df.shape"
   ]
  },
  {
   "cell_type": "code",
   "execution_count": 11,
   "id": "6b679d39",
   "metadata": {},
   "outputs": [
    {
     "data": {
      "text/plain": [
       "6"
      ]
     },
     "execution_count": 11,
     "metadata": {},
     "output_type": "execute_result"
    }
   ],
   "source": [
    "#Satır sayısı\n",
    "df.shape[0]"
   ]
  },
  {
   "cell_type": "code",
   "execution_count": 12,
   "id": "688465f9",
   "metadata": {},
   "outputs": [
    {
     "data": {
      "text/plain": [
       "4"
      ]
     },
     "execution_count": 12,
     "metadata": {},
     "output_type": "execute_result"
    }
   ],
   "source": [
    "#Sütun sayısı\n",
    "df.shape[1]"
   ]
  },
  {
   "cell_type": "code",
   "execution_count": 13,
   "id": "b5e46e1d",
   "metadata": {},
   "outputs": [
    {
     "data": {
      "text/plain": [
       "29"
      ]
     },
     "execution_count": 13,
     "metadata": {},
     "output_type": "execute_result"
    }
   ],
   "source": [
    "#Veri setindeki en büyük yaş değerini bulalım\n",
    "df['yas'].max()"
   ]
  },
  {
   "cell_type": "code",
   "execution_count": 14,
   "id": "b734de36",
   "metadata": {},
   "outputs": [
    {
     "data": {
      "text/plain": [
       "24"
      ]
     },
     "execution_count": 14,
     "metadata": {},
     "output_type": "execute_result"
    }
   ],
   "source": [
    "#Veri setindeki en küçük yaş değerini bulalım\n",
    "df['yas'].min()"
   ]
  },
  {
   "cell_type": "code",
   "execution_count": 15,
   "id": "68006684",
   "metadata": {},
   "outputs": [
    {
     "data": {
      "text/plain": [
       "26.5"
      ]
     },
     "execution_count": 15,
     "metadata": {},
     "output_type": "execute_result"
    }
   ],
   "source": [
    "#Veri setindeki ortalama yaş değerini bulalım\n",
    "df['yas'].mean()"
   ]
  },
  {
   "cell_type": "code",
   "execution_count": 16,
   "id": "1995b8b9",
   "metadata": {},
   "outputs": [
    {
     "data": {
      "text/html": [
       "<div>\n",
       "<style scoped>\n",
       "    .dataframe tbody tr th:only-of-type {\n",
       "        vertical-align: middle;\n",
       "    }\n",
       "\n",
       "    .dataframe tbody tr th {\n",
       "        vertical-align: top;\n",
       "    }\n",
       "\n",
       "    .dataframe thead th {\n",
       "        text-align: right;\n",
       "    }\n",
       "</style>\n",
       "<table border=\"1\" class=\"dataframe\">\n",
       "  <thead>\n",
       "    <tr style=\"text-align: right;\">\n",
       "      <th></th>\n",
       "      <th>yas</th>\n",
       "      <th>maas</th>\n",
       "    </tr>\n",
       "  </thead>\n",
       "  <tbody>\n",
       "    <tr>\n",
       "      <th>count</th>\n",
       "      <td>6.000000</td>\n",
       "      <td>6.000000</td>\n",
       "    </tr>\n",
       "    <tr>\n",
       "      <th>mean</th>\n",
       "      <td>26.500000</td>\n",
       "      <td>4000.000000</td>\n",
       "    </tr>\n",
       "    <tr>\n",
       "      <th>std</th>\n",
       "      <td>1.870829</td>\n",
       "      <td>894.427191</td>\n",
       "    </tr>\n",
       "    <tr>\n",
       "      <th>min</th>\n",
       "      <td>24.000000</td>\n",
       "      <td>3000.000000</td>\n",
       "    </tr>\n",
       "    <tr>\n",
       "      <th>25%</th>\n",
       "      <td>25.250000</td>\n",
       "      <td>3500.000000</td>\n",
       "    </tr>\n",
       "    <tr>\n",
       "      <th>50%</th>\n",
       "      <td>26.500000</td>\n",
       "      <td>3750.000000</td>\n",
       "    </tr>\n",
       "    <tr>\n",
       "      <th>75%</th>\n",
       "      <td>27.750000</td>\n",
       "      <td>4375.000000</td>\n",
       "    </tr>\n",
       "    <tr>\n",
       "      <th>max</th>\n",
       "      <td>29.000000</td>\n",
       "      <td>5500.000000</td>\n",
       "    </tr>\n",
       "  </tbody>\n",
       "</table>\n",
       "</div>"
      ],
      "text/plain": [
       "             yas         maas\n",
       "count   6.000000     6.000000\n",
       "mean   26.500000  4000.000000\n",
       "std     1.870829   894.427191\n",
       "min    24.000000  3000.000000\n",
       "25%    25.250000  3500.000000\n",
       "50%    26.500000  3750.000000\n",
       "75%    27.750000  4375.000000\n",
       "max    29.000000  5500.000000"
      ]
     },
     "execution_count": 16,
     "metadata": {},
     "output_type": "execute_result"
    }
   ],
   "source": [
    "#Açıklayıcı istatistiklerine göz atalım\n",
    "df.describe()"
   ]
  },
  {
   "cell_type": "code",
   "execution_count": 17,
   "id": "f54fa695",
   "metadata": {},
   "outputs": [],
   "source": [
    "#Veri setine yeni bir sütun eklemek\n",
    "\n",
    "df['sehir'] = ['istanbul', 'istanbul', 'ankara', 'izmir', 'istanbul', 'ankara']"
   ]
  },
  {
   "cell_type": "code",
   "execution_count": 18,
   "id": "79704485",
   "metadata": {},
   "outputs": [
    {
     "name": "stdout",
     "output_type": "stream",
     "text": [
      "     isim  yas cinsiyet  maas     sehir\n",
      "0  sercan   24        E  3000  istanbul\n",
      "1   ahmet   25        E  4500  istanbul\n",
      "2  mehmet   26        E  3500    ankara\n",
      "3    ayşe   27        K  4000     izmir\n",
      "4   selin   28        K  5500  istanbul\n",
      "5   ceren   29        K  3500    ankara\n"
     ]
    }
   ],
   "source": [
    "print(df)"
   ]
  },
  {
   "cell_type": "code",
   "execution_count": 19,
   "id": "b30a580f",
   "metadata": {},
   "outputs": [
    {
     "data": {
      "text/html": [
       "<div>\n",
       "<style scoped>\n",
       "    .dataframe tbody tr th:only-of-type {\n",
       "        vertical-align: middle;\n",
       "    }\n",
       "\n",
       "    .dataframe tbody tr th {\n",
       "        vertical-align: top;\n",
       "    }\n",
       "\n",
       "    .dataframe thead th {\n",
       "        text-align: right;\n",
       "    }\n",
       "</style>\n",
       "<table border=\"1\" class=\"dataframe\">\n",
       "  <thead>\n",
       "    <tr style=\"text-align: right;\">\n",
       "      <th></th>\n",
       "      <th>isim</th>\n",
       "      <th>yas</th>\n",
       "      <th>cinsiyet</th>\n",
       "      <th>maas</th>\n",
       "      <th>sehir</th>\n",
       "      <th>yas_1</th>\n",
       "    </tr>\n",
       "  </thead>\n",
       "  <tbody>\n",
       "    <tr>\n",
       "      <th>0</th>\n",
       "      <td>sercan</td>\n",
       "      <td>24</td>\n",
       "      <td>E</td>\n",
       "      <td>3000</td>\n",
       "      <td>istanbul</td>\n",
       "      <td>25</td>\n",
       "    </tr>\n",
       "    <tr>\n",
       "      <th>1</th>\n",
       "      <td>ahmet</td>\n",
       "      <td>25</td>\n",
       "      <td>E</td>\n",
       "      <td>4500</td>\n",
       "      <td>istanbul</td>\n",
       "      <td>26</td>\n",
       "    </tr>\n",
       "    <tr>\n",
       "      <th>2</th>\n",
       "      <td>mehmet</td>\n",
       "      <td>26</td>\n",
       "      <td>E</td>\n",
       "      <td>3500</td>\n",
       "      <td>ankara</td>\n",
       "      <td>27</td>\n",
       "    </tr>\n",
       "    <tr>\n",
       "      <th>3</th>\n",
       "      <td>ayşe</td>\n",
       "      <td>27</td>\n",
       "      <td>K</td>\n",
       "      <td>4000</td>\n",
       "      <td>izmir</td>\n",
       "      <td>28</td>\n",
       "    </tr>\n",
       "    <tr>\n",
       "      <th>4</th>\n",
       "      <td>selin</td>\n",
       "      <td>28</td>\n",
       "      <td>K</td>\n",
       "      <td>5500</td>\n",
       "      <td>istanbul</td>\n",
       "      <td>29</td>\n",
       "    </tr>\n",
       "    <tr>\n",
       "      <th>5</th>\n",
       "      <td>ceren</td>\n",
       "      <td>29</td>\n",
       "      <td>K</td>\n",
       "      <td>3500</td>\n",
       "      <td>ankara</td>\n",
       "      <td>30</td>\n",
       "    </tr>\n",
       "  </tbody>\n",
       "</table>\n",
       "</div>"
      ],
      "text/plain": [
       "     isim  yas cinsiyet  maas     sehir  yas_1\n",
       "0  sercan   24        E  3000  istanbul     25\n",
       "1   ahmet   25        E  4500  istanbul     26\n",
       "2  mehmet   26        E  3500    ankara     27\n",
       "3    ayşe   27        K  4000     izmir     28\n",
       "4   selin   28        K  5500  istanbul     29\n",
       "5   ceren   29        K  3500    ankara     30"
      ]
     },
     "execution_count": 19,
     "metadata": {},
     "output_type": "execute_result"
    }
   ],
   "source": [
    "#Yaşların bir fazlasını yas_1 isimli sütun olarak kaydediniz\n",
    "\n",
    "df['yas_1'] = df['yas'] + 1\n",
    "\n",
    "df"
   ]
  },
  {
   "cell_type": "code",
   "execution_count": 20,
   "id": "db850287",
   "metadata": {},
   "outputs": [
    {
     "data": {
      "text/html": [
       "<div>\n",
       "<style scoped>\n",
       "    .dataframe tbody tr th:only-of-type {\n",
       "        vertical-align: middle;\n",
       "    }\n",
       "\n",
       "    .dataframe tbody tr th {\n",
       "        vertical-align: top;\n",
       "    }\n",
       "\n",
       "    .dataframe thead th {\n",
       "        text-align: right;\n",
       "    }\n",
       "</style>\n",
       "<table border=\"1\" class=\"dataframe\">\n",
       "  <thead>\n",
       "    <tr style=\"text-align: right;\">\n",
       "      <th></th>\n",
       "      <th>isim</th>\n",
       "      <th>yas</th>\n",
       "      <th>cinsiyet</th>\n",
       "      <th>maas</th>\n",
       "      <th>sehir</th>\n",
       "    </tr>\n",
       "  </thead>\n",
       "  <tbody>\n",
       "    <tr>\n",
       "      <th>0</th>\n",
       "      <td>sercan</td>\n",
       "      <td>24</td>\n",
       "      <td>E</td>\n",
       "      <td>3000</td>\n",
       "      <td>istanbul</td>\n",
       "    </tr>\n",
       "    <tr>\n",
       "      <th>1</th>\n",
       "      <td>ahmet</td>\n",
       "      <td>25</td>\n",
       "      <td>E</td>\n",
       "      <td>4500</td>\n",
       "      <td>istanbul</td>\n",
       "    </tr>\n",
       "    <tr>\n",
       "      <th>2</th>\n",
       "      <td>mehmet</td>\n",
       "      <td>26</td>\n",
       "      <td>E</td>\n",
       "      <td>3500</td>\n",
       "      <td>ankara</td>\n",
       "    </tr>\n",
       "    <tr>\n",
       "      <th>3</th>\n",
       "      <td>ayşe</td>\n",
       "      <td>27</td>\n",
       "      <td>K</td>\n",
       "      <td>4000</td>\n",
       "      <td>izmir</td>\n",
       "    </tr>\n",
       "    <tr>\n",
       "      <th>4</th>\n",
       "      <td>selin</td>\n",
       "      <td>28</td>\n",
       "      <td>K</td>\n",
       "      <td>5500</td>\n",
       "      <td>istanbul</td>\n",
       "    </tr>\n",
       "    <tr>\n",
       "      <th>5</th>\n",
       "      <td>ceren</td>\n",
       "      <td>29</td>\n",
       "      <td>K</td>\n",
       "      <td>3500</td>\n",
       "      <td>ankara</td>\n",
       "    </tr>\n",
       "  </tbody>\n",
       "</table>\n",
       "</div>"
      ],
      "text/plain": [
       "     isim  yas cinsiyet  maas     sehir\n",
       "0  sercan   24        E  3000  istanbul\n",
       "1   ahmet   25        E  4500  istanbul\n",
       "2  mehmet   26        E  3500    ankara\n",
       "3    ayşe   27        K  4000     izmir\n",
       "4   selin   28        K  5500  istanbul\n",
       "5   ceren   29        K  3500    ankara"
      ]
     },
     "execution_count": 20,
     "metadata": {},
     "output_type": "execute_result"
    }
   ],
   "source": [
    "#Sütun silme\n",
    "df = df.drop(columns = ['yas_1'])\n",
    "\n",
    "df"
   ]
  },
  {
   "cell_type": "markdown",
   "id": "3774582d",
   "metadata": {},
   "source": [
    "# 4. Gruplama & Sıralama\n",
    "\n",
    "- **groupby** ve **agg** ile belirli kategorik kırılımlarda ortalama, minimum, maksimum, standard sapma gibi istatistiksel değerler gözlemlenebilir.\n",
    "\n",
    "- **sort_values** ile belirlenen özellikler büyükten küçüğe ya da küçükten büyüğe sıralanabilir."
   ]
  },
  {
   "cell_type": "code",
   "execution_count": 21,
   "id": "dabf691c",
   "metadata": {},
   "outputs": [
    {
     "data": {
      "text/plain": [
       "<pandas.core.groupby.generic.DataFrameGroupBy object at 0x7face0c5b850>"
      ]
     },
     "execution_count": 21,
     "metadata": {},
     "output_type": "execute_result"
    }
   ],
   "source": [
    "#Şehirler bazında gruplama yapalım\n",
    "df.groupby('sehir')"
   ]
  },
  {
   "cell_type": "code",
   "execution_count": 22,
   "id": "b7ed0d64",
   "metadata": {},
   "outputs": [
    {
     "data": {
      "text/html": [
       "<div>\n",
       "<style scoped>\n",
       "    .dataframe tbody tr th:only-of-type {\n",
       "        vertical-align: middle;\n",
       "    }\n",
       "\n",
       "    .dataframe tbody tr th {\n",
       "        vertical-align: top;\n",
       "    }\n",
       "\n",
       "    .dataframe thead th {\n",
       "        text-align: right;\n",
       "    }\n",
       "</style>\n",
       "<table border=\"1\" class=\"dataframe\">\n",
       "  <thead>\n",
       "    <tr style=\"text-align: right;\">\n",
       "      <th></th>\n",
       "      <th>maas</th>\n",
       "    </tr>\n",
       "    <tr>\n",
       "      <th>sehir</th>\n",
       "      <th></th>\n",
       "    </tr>\n",
       "  </thead>\n",
       "  <tbody>\n",
       "    <tr>\n",
       "      <th>ankara</th>\n",
       "      <td>3500.000000</td>\n",
       "    </tr>\n",
       "    <tr>\n",
       "      <th>istanbul</th>\n",
       "      <td>4333.333333</td>\n",
       "    </tr>\n",
       "    <tr>\n",
       "      <th>izmir</th>\n",
       "      <td>4000.000000</td>\n",
       "    </tr>\n",
       "  </tbody>\n",
       "</table>\n",
       "</div>"
      ],
      "text/plain": [
       "                 maas\n",
       "sehir                \n",
       "ankara    3500.000000\n",
       "istanbul  4333.333333\n",
       "izmir     4000.000000"
      ]
     },
     "execution_count": 22,
     "metadata": {},
     "output_type": "execute_result"
    }
   ],
   "source": [
    "#Şehirler bazında ortalama maaş değerlerini yazdırınız\n",
    "df.groupby('sehir').agg({'maas': 'mean'})"
   ]
  },
  {
   "cell_type": "code",
   "execution_count": 23,
   "id": "92f3a0af",
   "metadata": {},
   "outputs": [
    {
     "data": {
      "text/html": [
       "<div>\n",
       "<style scoped>\n",
       "    .dataframe tbody tr th:only-of-type {\n",
       "        vertical-align: middle;\n",
       "    }\n",
       "\n",
       "    .dataframe tbody tr th {\n",
       "        vertical-align: top;\n",
       "    }\n",
       "\n",
       "    .dataframe thead th {\n",
       "        text-align: right;\n",
       "    }\n",
       "</style>\n",
       "<table border=\"1\" class=\"dataframe\">\n",
       "  <thead>\n",
       "    <tr style=\"text-align: right;\">\n",
       "      <th></th>\n",
       "      <th>maas</th>\n",
       "    </tr>\n",
       "    <tr>\n",
       "      <th>cinsiyet</th>\n",
       "      <th></th>\n",
       "    </tr>\n",
       "  </thead>\n",
       "  <tbody>\n",
       "    <tr>\n",
       "      <th>E</th>\n",
       "      <td>3666.666667</td>\n",
       "    </tr>\n",
       "    <tr>\n",
       "      <th>K</th>\n",
       "      <td>4333.333333</td>\n",
       "    </tr>\n",
       "  </tbody>\n",
       "</table>\n",
       "</div>"
      ],
      "text/plain": [
       "                 maas\n",
       "cinsiyet             \n",
       "E         3666.666667\n",
       "K         4333.333333"
      ]
     },
     "execution_count": 23,
     "metadata": {},
     "output_type": "execute_result"
    }
   ],
   "source": [
    "#Cinsiyetler bazında ortalama maaş değerlerini yazdırınız\n",
    "df.groupby('cinsiyet').agg({'maas': 'mean'})"
   ]
  },
  {
   "cell_type": "markdown",
   "id": "beba7d6e",
   "metadata": {},
   "source": [
    "- **count** → Tüm elemanların **sayısı**\n",
    "- **mean** → Tüm elemanların **ortalamaların**ı hesaplar\n",
    "- **median** → Tüm elemanların **medyan** değerini hesaplar\n",
    "- **first, last** → **İlk** ve **Son** elemanı getirir\n",
    "- **sum** → Tüm elemanların **toplamlarını** alır\n",
    "- **min, max** → Tüm elemanların **minimum** ve **maximum** değerlerini getirir\n",
    "- **std, var** → Tüm elemanların **standart sapmasını** ve **varyansını** hesapları"
   ]
  },
  {
   "cell_type": "code",
   "execution_count": 24,
   "id": "e7aa8f14",
   "metadata": {},
   "outputs": [
    {
     "data": {
      "text/html": [
       "<div>\n",
       "<style scoped>\n",
       "    .dataframe tbody tr th:only-of-type {\n",
       "        vertical-align: middle;\n",
       "    }\n",
       "\n",
       "    .dataframe tbody tr th {\n",
       "        vertical-align: top;\n",
       "    }\n",
       "\n",
       "    .dataframe thead th {\n",
       "        text-align: right;\n",
       "    }\n",
       "</style>\n",
       "<table border=\"1\" class=\"dataframe\">\n",
       "  <thead>\n",
       "    <tr style=\"text-align: right;\">\n",
       "      <th></th>\n",
       "      <th>maas</th>\n",
       "    </tr>\n",
       "    <tr>\n",
       "      <th>cinsiyet</th>\n",
       "      <th></th>\n",
       "    </tr>\n",
       "  </thead>\n",
       "  <tbody>\n",
       "    <tr>\n",
       "      <th>E</th>\n",
       "      <td>4500</td>\n",
       "    </tr>\n",
       "    <tr>\n",
       "      <th>K</th>\n",
       "      <td>5500</td>\n",
       "    </tr>\n",
       "  </tbody>\n",
       "</table>\n",
       "</div>"
      ],
      "text/plain": [
       "          maas\n",
       "cinsiyet      \n",
       "E         4500\n",
       "K         5500"
      ]
     },
     "execution_count": 24,
     "metadata": {},
     "output_type": "execute_result"
    }
   ],
   "source": [
    "#Cinsiyetler bazında maksimum maaş değerlerini yazdırınız\n",
    "df.groupby('cinsiyet').agg({'maas': 'max'})"
   ]
  },
  {
   "cell_type": "code",
   "execution_count": 25,
   "id": "9f02bcc5",
   "metadata": {},
   "outputs": [
    {
     "data": {
      "text/html": [
       "<div>\n",
       "<style scoped>\n",
       "    .dataframe tbody tr th:only-of-type {\n",
       "        vertical-align: middle;\n",
       "    }\n",
       "\n",
       "    .dataframe tbody tr th {\n",
       "        vertical-align: top;\n",
       "    }\n",
       "\n",
       "    .dataframe thead th {\n",
       "        text-align: right;\n",
       "    }\n",
       "</style>\n",
       "<table border=\"1\" class=\"dataframe\">\n",
       "  <thead>\n",
       "    <tr style=\"text-align: right;\">\n",
       "      <th></th>\n",
       "      <th>isim</th>\n",
       "      <th>yas</th>\n",
       "      <th>cinsiyet</th>\n",
       "      <th>maas</th>\n",
       "      <th>sehir</th>\n",
       "    </tr>\n",
       "  </thead>\n",
       "  <tbody>\n",
       "    <tr>\n",
       "      <th>0</th>\n",
       "      <td>sercan</td>\n",
       "      <td>24</td>\n",
       "      <td>E</td>\n",
       "      <td>3000</td>\n",
       "      <td>istanbul</td>\n",
       "    </tr>\n",
       "    <tr>\n",
       "      <th>1</th>\n",
       "      <td>ahmet</td>\n",
       "      <td>25</td>\n",
       "      <td>E</td>\n",
       "      <td>4500</td>\n",
       "      <td>istanbul</td>\n",
       "    </tr>\n",
       "    <tr>\n",
       "      <th>2</th>\n",
       "      <td>mehmet</td>\n",
       "      <td>26</td>\n",
       "      <td>E</td>\n",
       "      <td>3500</td>\n",
       "      <td>ankara</td>\n",
       "    </tr>\n",
       "    <tr>\n",
       "      <th>3</th>\n",
       "      <td>ayşe</td>\n",
       "      <td>27</td>\n",
       "      <td>K</td>\n",
       "      <td>4000</td>\n",
       "      <td>izmir</td>\n",
       "    </tr>\n",
       "    <tr>\n",
       "      <th>4</th>\n",
       "      <td>selin</td>\n",
       "      <td>28</td>\n",
       "      <td>K</td>\n",
       "      <td>5500</td>\n",
       "      <td>istanbul</td>\n",
       "    </tr>\n",
       "    <tr>\n",
       "      <th>5</th>\n",
       "      <td>ceren</td>\n",
       "      <td>29</td>\n",
       "      <td>K</td>\n",
       "      <td>3500</td>\n",
       "      <td>ankara</td>\n",
       "    </tr>\n",
       "  </tbody>\n",
       "</table>\n",
       "</div>"
      ],
      "text/plain": [
       "     isim  yas cinsiyet  maas     sehir\n",
       "0  sercan   24        E  3000  istanbul\n",
       "1   ahmet   25        E  4500  istanbul\n",
       "2  mehmet   26        E  3500    ankara\n",
       "3    ayşe   27        K  4000     izmir\n",
       "4   selin   28        K  5500  istanbul\n",
       "5   ceren   29        K  3500    ankara"
      ]
     },
     "execution_count": 25,
     "metadata": {},
     "output_type": "execute_result"
    }
   ],
   "source": [
    "df"
   ]
  },
  {
   "cell_type": "code",
   "execution_count": 26,
   "id": "31832ea2",
   "metadata": {},
   "outputs": [
    {
     "data": {
      "text/html": [
       "<div>\n",
       "<style scoped>\n",
       "    .dataframe tbody tr th:only-of-type {\n",
       "        vertical-align: middle;\n",
       "    }\n",
       "\n",
       "    .dataframe tbody tr th {\n",
       "        vertical-align: top;\n",
       "    }\n",
       "\n",
       "    .dataframe thead th {\n",
       "        text-align: right;\n",
       "    }\n",
       "</style>\n",
       "<table border=\"1\" class=\"dataframe\">\n",
       "  <thead>\n",
       "    <tr style=\"text-align: right;\">\n",
       "      <th></th>\n",
       "      <th>isim</th>\n",
       "      <th>yas</th>\n",
       "      <th>cinsiyet</th>\n",
       "      <th>maas</th>\n",
       "      <th>sehir</th>\n",
       "    </tr>\n",
       "  </thead>\n",
       "  <tbody>\n",
       "    <tr>\n",
       "      <th>0</th>\n",
       "      <td>sercan</td>\n",
       "      <td>24</td>\n",
       "      <td>E</td>\n",
       "      <td>3000</td>\n",
       "      <td>istanbul</td>\n",
       "    </tr>\n",
       "    <tr>\n",
       "      <th>2</th>\n",
       "      <td>mehmet</td>\n",
       "      <td>26</td>\n",
       "      <td>E</td>\n",
       "      <td>3500</td>\n",
       "      <td>ankara</td>\n",
       "    </tr>\n",
       "    <tr>\n",
       "      <th>5</th>\n",
       "      <td>ceren</td>\n",
       "      <td>29</td>\n",
       "      <td>K</td>\n",
       "      <td>3500</td>\n",
       "      <td>ankara</td>\n",
       "    </tr>\n",
       "    <tr>\n",
       "      <th>3</th>\n",
       "      <td>ayşe</td>\n",
       "      <td>27</td>\n",
       "      <td>K</td>\n",
       "      <td>4000</td>\n",
       "      <td>izmir</td>\n",
       "    </tr>\n",
       "    <tr>\n",
       "      <th>1</th>\n",
       "      <td>ahmet</td>\n",
       "      <td>25</td>\n",
       "      <td>E</td>\n",
       "      <td>4500</td>\n",
       "      <td>istanbul</td>\n",
       "    </tr>\n",
       "    <tr>\n",
       "      <th>4</th>\n",
       "      <td>selin</td>\n",
       "      <td>28</td>\n",
       "      <td>K</td>\n",
       "      <td>5500</td>\n",
       "      <td>istanbul</td>\n",
       "    </tr>\n",
       "  </tbody>\n",
       "</table>\n",
       "</div>"
      ],
      "text/plain": [
       "     isim  yas cinsiyet  maas     sehir\n",
       "0  sercan   24        E  3000  istanbul\n",
       "2  mehmet   26        E  3500    ankara\n",
       "5   ceren   29        K  3500    ankara\n",
       "3    ayşe   27        K  4000     izmir\n",
       "1   ahmet   25        E  4500  istanbul\n",
       "4   selin   28        K  5500  istanbul"
      ]
     },
     "execution_count": 26,
     "metadata": {},
     "output_type": "execute_result"
    }
   ],
   "source": [
    "#Veriyi maaşlar bazında küçükten büyüğe sıralayınız.\n",
    "\n",
    "df.sort_values('maas')"
   ]
  },
  {
   "cell_type": "code",
   "execution_count": 27,
   "id": "80909c0d",
   "metadata": {},
   "outputs": [
    {
     "data": {
      "text/html": [
       "<div>\n",
       "<style scoped>\n",
       "    .dataframe tbody tr th:only-of-type {\n",
       "        vertical-align: middle;\n",
       "    }\n",
       "\n",
       "    .dataframe tbody tr th {\n",
       "        vertical-align: top;\n",
       "    }\n",
       "\n",
       "    .dataframe thead th {\n",
       "        text-align: right;\n",
       "    }\n",
       "</style>\n",
       "<table border=\"1\" class=\"dataframe\">\n",
       "  <thead>\n",
       "    <tr style=\"text-align: right;\">\n",
       "      <th></th>\n",
       "      <th>isim</th>\n",
       "      <th>yas</th>\n",
       "      <th>cinsiyet</th>\n",
       "      <th>maas</th>\n",
       "      <th>sehir</th>\n",
       "    </tr>\n",
       "  </thead>\n",
       "  <tbody>\n",
       "    <tr>\n",
       "      <th>4</th>\n",
       "      <td>selin</td>\n",
       "      <td>28</td>\n",
       "      <td>K</td>\n",
       "      <td>5500</td>\n",
       "      <td>istanbul</td>\n",
       "    </tr>\n",
       "    <tr>\n",
       "      <th>1</th>\n",
       "      <td>ahmet</td>\n",
       "      <td>25</td>\n",
       "      <td>E</td>\n",
       "      <td>4500</td>\n",
       "      <td>istanbul</td>\n",
       "    </tr>\n",
       "    <tr>\n",
       "      <th>3</th>\n",
       "      <td>ayşe</td>\n",
       "      <td>27</td>\n",
       "      <td>K</td>\n",
       "      <td>4000</td>\n",
       "      <td>izmir</td>\n",
       "    </tr>\n",
       "    <tr>\n",
       "      <th>2</th>\n",
       "      <td>mehmet</td>\n",
       "      <td>26</td>\n",
       "      <td>E</td>\n",
       "      <td>3500</td>\n",
       "      <td>ankara</td>\n",
       "    </tr>\n",
       "    <tr>\n",
       "      <th>5</th>\n",
       "      <td>ceren</td>\n",
       "      <td>29</td>\n",
       "      <td>K</td>\n",
       "      <td>3500</td>\n",
       "      <td>ankara</td>\n",
       "    </tr>\n",
       "    <tr>\n",
       "      <th>0</th>\n",
       "      <td>sercan</td>\n",
       "      <td>24</td>\n",
       "      <td>E</td>\n",
       "      <td>3000</td>\n",
       "      <td>istanbul</td>\n",
       "    </tr>\n",
       "  </tbody>\n",
       "</table>\n",
       "</div>"
      ],
      "text/plain": [
       "     isim  yas cinsiyet  maas     sehir\n",
       "4   selin   28        K  5500  istanbul\n",
       "1   ahmet   25        E  4500  istanbul\n",
       "3    ayşe   27        K  4000     izmir\n",
       "2  mehmet   26        E  3500    ankara\n",
       "5   ceren   29        K  3500    ankara\n",
       "0  sercan   24        E  3000  istanbul"
      ]
     },
     "execution_count": 27,
     "metadata": {},
     "output_type": "execute_result"
    }
   ],
   "source": [
    "#Veriyi maaşlar bazında büyükten küçüğe sıralayınız.\n",
    "\n",
    "df.sort_values('maas', ascending = False)"
   ]
  },
  {
   "cell_type": "code",
   "execution_count": 28,
   "id": "cee01a69",
   "metadata": {},
   "outputs": [
    {
     "data": {
      "text/html": [
       "<div>\n",
       "<style scoped>\n",
       "    .dataframe tbody tr th:only-of-type {\n",
       "        vertical-align: middle;\n",
       "    }\n",
       "\n",
       "    .dataframe tbody tr th {\n",
       "        vertical-align: top;\n",
       "    }\n",
       "\n",
       "    .dataframe thead th {\n",
       "        text-align: right;\n",
       "    }\n",
       "</style>\n",
       "<table border=\"1\" class=\"dataframe\">\n",
       "  <thead>\n",
       "    <tr style=\"text-align: right;\">\n",
       "      <th></th>\n",
       "      <th>isim</th>\n",
       "      <th>yas</th>\n",
       "      <th>cinsiyet</th>\n",
       "      <th>maas</th>\n",
       "      <th>sehir</th>\n",
       "    </tr>\n",
       "  </thead>\n",
       "  <tbody>\n",
       "    <tr>\n",
       "      <th>1</th>\n",
       "      <td>ahmet</td>\n",
       "      <td>25</td>\n",
       "      <td>E</td>\n",
       "      <td>4500</td>\n",
       "      <td>istanbul</td>\n",
       "    </tr>\n",
       "    <tr>\n",
       "      <th>3</th>\n",
       "      <td>ayşe</td>\n",
       "      <td>27</td>\n",
       "      <td>K</td>\n",
       "      <td>4000</td>\n",
       "      <td>izmir</td>\n",
       "    </tr>\n",
       "    <tr>\n",
       "      <th>5</th>\n",
       "      <td>ceren</td>\n",
       "      <td>29</td>\n",
       "      <td>K</td>\n",
       "      <td>3500</td>\n",
       "      <td>ankara</td>\n",
       "    </tr>\n",
       "    <tr>\n",
       "      <th>2</th>\n",
       "      <td>mehmet</td>\n",
       "      <td>26</td>\n",
       "      <td>E</td>\n",
       "      <td>3500</td>\n",
       "      <td>ankara</td>\n",
       "    </tr>\n",
       "    <tr>\n",
       "      <th>4</th>\n",
       "      <td>selin</td>\n",
       "      <td>28</td>\n",
       "      <td>K</td>\n",
       "      <td>5500</td>\n",
       "      <td>istanbul</td>\n",
       "    </tr>\n",
       "    <tr>\n",
       "      <th>0</th>\n",
       "      <td>sercan</td>\n",
       "      <td>24</td>\n",
       "      <td>E</td>\n",
       "      <td>3000</td>\n",
       "      <td>istanbul</td>\n",
       "    </tr>\n",
       "  </tbody>\n",
       "</table>\n",
       "</div>"
      ],
      "text/plain": [
       "     isim  yas cinsiyet  maas     sehir\n",
       "1   ahmet   25        E  4500  istanbul\n",
       "3    ayşe   27        K  4000     izmir\n",
       "5   ceren   29        K  3500    ankara\n",
       "2  mehmet   26        E  3500    ankara\n",
       "4   selin   28        K  5500  istanbul\n",
       "0  sercan   24        E  3000  istanbul"
      ]
     },
     "execution_count": 28,
     "metadata": {},
     "output_type": "execute_result"
    }
   ],
   "source": [
    "#İsimlere göre sıralama yapınız\n",
    "\n",
    "df.sort_values('isim')"
   ]
  },
  {
   "cell_type": "markdown",
   "id": "313f4e9f",
   "metadata": {},
   "source": [
    "# 5. loc & iloc\n",
    "\n",
    "- **loc** komutu ile etiket kullanarak ve **koşullar belirleyerek** verilere ulaşırız.\n",
    "- **iloc** komutu ise **satır ve sütun index numarası** ile verilere ulaşmamızı sağlar.\n",
    "\n",
    "Yani loc kullanırken satır ya da sütun ismi, iloc kullanırken ise satır ya da sütun index numarası belirtmeliyiz."
   ]
  },
  {
   "cell_type": "code",
   "execution_count": 29,
   "id": "8689a3b5",
   "metadata": {},
   "outputs": [
    {
     "data": {
      "text/html": [
       "<div>\n",
       "<style scoped>\n",
       "    .dataframe tbody tr th:only-of-type {\n",
       "        vertical-align: middle;\n",
       "    }\n",
       "\n",
       "    .dataframe tbody tr th {\n",
       "        vertical-align: top;\n",
       "    }\n",
       "\n",
       "    .dataframe thead th {\n",
       "        text-align: right;\n",
       "    }\n",
       "</style>\n",
       "<table border=\"1\" class=\"dataframe\">\n",
       "  <thead>\n",
       "    <tr style=\"text-align: right;\">\n",
       "      <th></th>\n",
       "      <th>isim</th>\n",
       "      <th>yas</th>\n",
       "      <th>cinsiyet</th>\n",
       "      <th>maas</th>\n",
       "      <th>sehir</th>\n",
       "    </tr>\n",
       "  </thead>\n",
       "  <tbody>\n",
       "    <tr>\n",
       "      <th>3</th>\n",
       "      <td>ayşe</td>\n",
       "      <td>27</td>\n",
       "      <td>K</td>\n",
       "      <td>4000</td>\n",
       "      <td>izmir</td>\n",
       "    </tr>\n",
       "    <tr>\n",
       "      <th>4</th>\n",
       "      <td>selin</td>\n",
       "      <td>28</td>\n",
       "      <td>K</td>\n",
       "      <td>5500</td>\n",
       "      <td>istanbul</td>\n",
       "    </tr>\n",
       "    <tr>\n",
       "      <th>5</th>\n",
       "      <td>ceren</td>\n",
       "      <td>29</td>\n",
       "      <td>K</td>\n",
       "      <td>3500</td>\n",
       "      <td>ankara</td>\n",
       "    </tr>\n",
       "  </tbody>\n",
       "</table>\n",
       "</div>"
      ],
      "text/plain": [
       "    isim  yas cinsiyet  maas     sehir\n",
       "3   ayşe   27        K  4000     izmir\n",
       "4  selin   28        K  5500  istanbul\n",
       "5  ceren   29        K  3500    ankara"
      ]
     },
     "execution_count": 29,
     "metadata": {},
     "output_type": "execute_result"
    }
   ],
   "source": [
    "#Cinsiyet özelliği kadın olan gözlemleri getiriniz\n",
    "\n",
    "df.loc[df['cinsiyet'] == 'K']"
   ]
  },
  {
   "cell_type": "code",
   "execution_count": 30,
   "id": "ebcb3a19",
   "metadata": {},
   "outputs": [
    {
     "data": {
      "text/html": [
       "<div>\n",
       "<style scoped>\n",
       "    .dataframe tbody tr th:only-of-type {\n",
       "        vertical-align: middle;\n",
       "    }\n",
       "\n",
       "    .dataframe tbody tr th {\n",
       "        vertical-align: top;\n",
       "    }\n",
       "\n",
       "    .dataframe thead th {\n",
       "        text-align: right;\n",
       "    }\n",
       "</style>\n",
       "<table border=\"1\" class=\"dataframe\">\n",
       "  <thead>\n",
       "    <tr style=\"text-align: right;\">\n",
       "      <th></th>\n",
       "      <th>isim</th>\n",
       "      <th>yas</th>\n",
       "      <th>cinsiyet</th>\n",
       "      <th>maas</th>\n",
       "      <th>sehir</th>\n",
       "    </tr>\n",
       "  </thead>\n",
       "  <tbody>\n",
       "    <tr>\n",
       "      <th>3</th>\n",
       "      <td>ayşe</td>\n",
       "      <td>27</td>\n",
       "      <td>K</td>\n",
       "      <td>4000</td>\n",
       "      <td>izmir</td>\n",
       "    </tr>\n",
       "    <tr>\n",
       "      <th>4</th>\n",
       "      <td>selin</td>\n",
       "      <td>28</td>\n",
       "      <td>K</td>\n",
       "      <td>5500</td>\n",
       "      <td>istanbul</td>\n",
       "    </tr>\n",
       "    <tr>\n",
       "      <th>5</th>\n",
       "      <td>ceren</td>\n",
       "      <td>29</td>\n",
       "      <td>K</td>\n",
       "      <td>3500</td>\n",
       "      <td>ankara</td>\n",
       "    </tr>\n",
       "  </tbody>\n",
       "</table>\n",
       "</div>"
      ],
      "text/plain": [
       "    isim  yas cinsiyet  maas     sehir\n",
       "3   ayşe   27        K  4000     izmir\n",
       "4  selin   28        K  5500  istanbul\n",
       "5  ceren   29        K  3500    ankara"
      ]
     },
     "execution_count": 30,
     "metadata": {},
     "output_type": "execute_result"
    }
   ],
   "source": [
    "#Cinsiyet özelliği kadın olan gözlemleri getiriniz\n",
    "\n",
    "df.loc[df['cinsiyet'] == 'K']"
   ]
  },
  {
   "cell_type": "code",
   "execution_count": 31,
   "id": "a20122cc",
   "metadata": {},
   "outputs": [
    {
     "data": {
      "text/html": [
       "<div>\n",
       "<style scoped>\n",
       "    .dataframe tbody tr th:only-of-type {\n",
       "        vertical-align: middle;\n",
       "    }\n",
       "\n",
       "    .dataframe tbody tr th {\n",
       "        vertical-align: top;\n",
       "    }\n",
       "\n",
       "    .dataframe thead th {\n",
       "        text-align: right;\n",
       "    }\n",
       "</style>\n",
       "<table border=\"1\" class=\"dataframe\">\n",
       "  <thead>\n",
       "    <tr style=\"text-align: right;\">\n",
       "      <th></th>\n",
       "      <th>isim</th>\n",
       "      <th>yas</th>\n",
       "      <th>cinsiyet</th>\n",
       "      <th>maas</th>\n",
       "      <th>sehir</th>\n",
       "    </tr>\n",
       "  </thead>\n",
       "  <tbody>\n",
       "    <tr>\n",
       "      <th>0</th>\n",
       "      <td>sercan</td>\n",
       "      <td>24</td>\n",
       "      <td>E</td>\n",
       "      <td>3000</td>\n",
       "      <td>istanbul</td>\n",
       "    </tr>\n",
       "    <tr>\n",
       "      <th>1</th>\n",
       "      <td>ahmet</td>\n",
       "      <td>25</td>\n",
       "      <td>E</td>\n",
       "      <td>4500</td>\n",
       "      <td>istanbul</td>\n",
       "    </tr>\n",
       "    <tr>\n",
       "      <th>2</th>\n",
       "      <td>mehmet</td>\n",
       "      <td>26</td>\n",
       "      <td>E</td>\n",
       "      <td>3500</td>\n",
       "      <td>ankara</td>\n",
       "    </tr>\n",
       "  </tbody>\n",
       "</table>\n",
       "</div>"
      ],
      "text/plain": [
       "     isim  yas cinsiyet  maas     sehir\n",
       "0  sercan   24        E  3000  istanbul\n",
       "1   ahmet   25        E  4500  istanbul\n",
       "2  mehmet   26        E  3500    ankara"
      ]
     },
     "execution_count": 31,
     "metadata": {},
     "output_type": "execute_result"
    }
   ],
   "source": [
    "#Cinsiyet özelliği erkek olan gözlemleri getiriniz\n",
    "\n",
    "df.loc[df['cinsiyet'] == 'E']"
   ]
  },
  {
   "cell_type": "markdown",
   "id": "cb44b06f",
   "metadata": {},
   "source": [
    "- Loc içinde **sayısal** koşullar da belirtilebilir."
   ]
  },
  {
   "cell_type": "code",
   "execution_count": 32,
   "id": "95f6c073",
   "metadata": {},
   "outputs": [
    {
     "data": {
      "text/html": [
       "<div>\n",
       "<style scoped>\n",
       "    .dataframe tbody tr th:only-of-type {\n",
       "        vertical-align: middle;\n",
       "    }\n",
       "\n",
       "    .dataframe tbody tr th {\n",
       "        vertical-align: top;\n",
       "    }\n",
       "\n",
       "    .dataframe thead th {\n",
       "        text-align: right;\n",
       "    }\n",
       "</style>\n",
       "<table border=\"1\" class=\"dataframe\">\n",
       "  <thead>\n",
       "    <tr style=\"text-align: right;\">\n",
       "      <th></th>\n",
       "      <th>isim</th>\n",
       "      <th>yas</th>\n",
       "      <th>cinsiyet</th>\n",
       "      <th>maas</th>\n",
       "      <th>sehir</th>\n",
       "    </tr>\n",
       "  </thead>\n",
       "  <tbody>\n",
       "    <tr>\n",
       "      <th>2</th>\n",
       "      <td>mehmet</td>\n",
       "      <td>26</td>\n",
       "      <td>E</td>\n",
       "      <td>3500</td>\n",
       "      <td>ankara</td>\n",
       "    </tr>\n",
       "    <tr>\n",
       "      <th>3</th>\n",
       "      <td>ayşe</td>\n",
       "      <td>27</td>\n",
       "      <td>K</td>\n",
       "      <td>4000</td>\n",
       "      <td>izmir</td>\n",
       "    </tr>\n",
       "    <tr>\n",
       "      <th>4</th>\n",
       "      <td>selin</td>\n",
       "      <td>28</td>\n",
       "      <td>K</td>\n",
       "      <td>5500</td>\n",
       "      <td>istanbul</td>\n",
       "    </tr>\n",
       "    <tr>\n",
       "      <th>5</th>\n",
       "      <td>ceren</td>\n",
       "      <td>29</td>\n",
       "      <td>K</td>\n",
       "      <td>3500</td>\n",
       "      <td>ankara</td>\n",
       "    </tr>\n",
       "  </tbody>\n",
       "</table>\n",
       "</div>"
      ],
      "text/plain": [
       "     isim  yas cinsiyet  maas     sehir\n",
       "2  mehmet   26        E  3500    ankara\n",
       "3    ayşe   27        K  4000     izmir\n",
       "4   selin   28        K  5500  istanbul\n",
       "5   ceren   29        K  3500    ankara"
      ]
     },
     "execution_count": 32,
     "metadata": {},
     "output_type": "execute_result"
    }
   ],
   "source": [
    "#25 yaşından büyük olan kişileri getiriniz.\n",
    "\n",
    "df.loc[df['yas'] > 25]"
   ]
  },
  {
   "cell_type": "code",
   "execution_count": 33,
   "id": "c80b41f5",
   "metadata": {},
   "outputs": [
    {
     "data": {
      "text/html": [
       "<div>\n",
       "<style scoped>\n",
       "    .dataframe tbody tr th:only-of-type {\n",
       "        vertical-align: middle;\n",
       "    }\n",
       "\n",
       "    .dataframe tbody tr th {\n",
       "        vertical-align: top;\n",
       "    }\n",
       "\n",
       "    .dataframe thead th {\n",
       "        text-align: right;\n",
       "    }\n",
       "</style>\n",
       "<table border=\"1\" class=\"dataframe\">\n",
       "  <thead>\n",
       "    <tr style=\"text-align: right;\">\n",
       "      <th></th>\n",
       "      <th>isim</th>\n",
       "      <th>yas</th>\n",
       "      <th>cinsiyet</th>\n",
       "      <th>maas</th>\n",
       "      <th>sehir</th>\n",
       "    </tr>\n",
       "  </thead>\n",
       "  <tbody>\n",
       "    <tr>\n",
       "      <th>0</th>\n",
       "      <td>sercan</td>\n",
       "      <td>24</td>\n",
       "      <td>E</td>\n",
       "      <td>3000</td>\n",
       "      <td>istanbul</td>\n",
       "    </tr>\n",
       "    <tr>\n",
       "      <th>1</th>\n",
       "      <td>ahmet</td>\n",
       "      <td>25</td>\n",
       "      <td>E</td>\n",
       "      <td>4500</td>\n",
       "      <td>istanbul</td>\n",
       "    </tr>\n",
       "    <tr>\n",
       "      <th>2</th>\n",
       "      <td>mehmet</td>\n",
       "      <td>26</td>\n",
       "      <td>E</td>\n",
       "      <td>3500</td>\n",
       "      <td>ankara</td>\n",
       "    </tr>\n",
       "    <tr>\n",
       "      <th>3</th>\n",
       "      <td>ayşe</td>\n",
       "      <td>27</td>\n",
       "      <td>K</td>\n",
       "      <td>4000</td>\n",
       "      <td>izmir</td>\n",
       "    </tr>\n",
       "  </tbody>\n",
       "</table>\n",
       "</div>"
      ],
      "text/plain": [
       "     isim  yas cinsiyet  maas     sehir\n",
       "0  sercan   24        E  3000  istanbul\n",
       "1   ahmet   25        E  4500  istanbul\n",
       "2  mehmet   26        E  3500    ankara\n",
       "3    ayşe   27        K  4000     izmir"
      ]
     },
     "execution_count": 33,
     "metadata": {},
     "output_type": "execute_result"
    }
   ],
   "source": [
    "#28 yaşından küçük olan kişileri getiriniz.\n",
    "\n",
    "df.loc[df['yas'] < 28]"
   ]
  },
  {
   "cell_type": "code",
   "execution_count": 34,
   "id": "922e7c36",
   "metadata": {},
   "outputs": [
    {
     "data": {
      "text/html": [
       "<div>\n",
       "<style scoped>\n",
       "    .dataframe tbody tr th:only-of-type {\n",
       "        vertical-align: middle;\n",
       "    }\n",
       "\n",
       "    .dataframe tbody tr th {\n",
       "        vertical-align: top;\n",
       "    }\n",
       "\n",
       "    .dataframe thead th {\n",
       "        text-align: right;\n",
       "    }\n",
       "</style>\n",
       "<table border=\"1\" class=\"dataframe\">\n",
       "  <thead>\n",
       "    <tr style=\"text-align: right;\">\n",
       "      <th></th>\n",
       "      <th>isim</th>\n",
       "      <th>yas</th>\n",
       "      <th>cinsiyet</th>\n",
       "      <th>maas</th>\n",
       "      <th>sehir</th>\n",
       "    </tr>\n",
       "  </thead>\n",
       "  <tbody>\n",
       "    <tr>\n",
       "      <th>1</th>\n",
       "      <td>ahmet</td>\n",
       "      <td>25</td>\n",
       "      <td>E</td>\n",
       "      <td>4500</td>\n",
       "      <td>istanbul</td>\n",
       "    </tr>\n",
       "    <tr>\n",
       "      <th>3</th>\n",
       "      <td>ayşe</td>\n",
       "      <td>27</td>\n",
       "      <td>K</td>\n",
       "      <td>4000</td>\n",
       "      <td>izmir</td>\n",
       "    </tr>\n",
       "    <tr>\n",
       "      <th>4</th>\n",
       "      <td>selin</td>\n",
       "      <td>28</td>\n",
       "      <td>K</td>\n",
       "      <td>5500</td>\n",
       "      <td>istanbul</td>\n",
       "    </tr>\n",
       "  </tbody>\n",
       "</table>\n",
       "</div>"
      ],
      "text/plain": [
       "    isim  yas cinsiyet  maas     sehir\n",
       "1  ahmet   25        E  4500  istanbul\n",
       "3   ayşe   27        K  4000     izmir\n",
       "4  selin   28        K  5500  istanbul"
      ]
     },
     "execution_count": 34,
     "metadata": {},
     "output_type": "execute_result"
    }
   ],
   "source": [
    "#Maaşı 3500 den yüksek olan kişileri getiriniz.\n",
    "\n",
    "df.loc[df['maas'] > 3500]"
   ]
  },
  {
   "cell_type": "code",
   "execution_count": 35,
   "id": "5c7d09c9",
   "metadata": {},
   "outputs": [
    {
     "data": {
      "text/plain": [
       "1    ahmet\n",
       "3     ayşe\n",
       "4    selin\n",
       "Name: isim, dtype: object"
      ]
     },
     "execution_count": 35,
     "metadata": {},
     "output_type": "execute_result"
    }
   ],
   "source": [
    "#Maaşı 3500 den yüksek olan kişilerin isimlerini getiriniz.\n",
    "\n",
    "df.loc[df['maas'] > 3500, 'isim']"
   ]
  },
  {
   "cell_type": "code",
   "execution_count": 36,
   "id": "ab6fd0b8",
   "metadata": {},
   "outputs": [
    {
     "data": {
      "text/html": [
       "<div>\n",
       "<style scoped>\n",
       "    .dataframe tbody tr th:only-of-type {\n",
       "        vertical-align: middle;\n",
       "    }\n",
       "\n",
       "    .dataframe tbody tr th {\n",
       "        vertical-align: top;\n",
       "    }\n",
       "\n",
       "    .dataframe thead th {\n",
       "        text-align: right;\n",
       "    }\n",
       "</style>\n",
       "<table border=\"1\" class=\"dataframe\">\n",
       "  <thead>\n",
       "    <tr style=\"text-align: right;\">\n",
       "      <th></th>\n",
       "      <th>isim</th>\n",
       "      <th>cinsiyet</th>\n",
       "    </tr>\n",
       "  </thead>\n",
       "  <tbody>\n",
       "    <tr>\n",
       "      <th>1</th>\n",
       "      <td>ahmet</td>\n",
       "      <td>E</td>\n",
       "    </tr>\n",
       "    <tr>\n",
       "      <th>3</th>\n",
       "      <td>ayşe</td>\n",
       "      <td>K</td>\n",
       "    </tr>\n",
       "    <tr>\n",
       "      <th>4</th>\n",
       "      <td>selin</td>\n",
       "      <td>K</td>\n",
       "    </tr>\n",
       "  </tbody>\n",
       "</table>\n",
       "</div>"
      ],
      "text/plain": [
       "    isim cinsiyet\n",
       "1  ahmet        E\n",
       "3   ayşe        K\n",
       "4  selin        K"
      ]
     },
     "execution_count": 36,
     "metadata": {},
     "output_type": "execute_result"
    }
   ],
   "source": [
    "#Maaşı 3500 den yüksek olan kişilerin isimlerini ve cinsiyetlerini getiriniz.\n",
    "\n",
    "df.loc[df['maas'] > 3500, ['isim', 'cinsiyet']]"
   ]
  },
  {
   "cell_type": "markdown",
   "id": "d8feca97",
   "metadata": {},
   "source": [
    "- **loc** içinde belirtilen koşuldan sonra bir virgül koyup istenilen sütunlar çağırılabilir."
   ]
  },
  {
   "cell_type": "code",
   "execution_count": 37,
   "id": "b8aa4b87",
   "metadata": {},
   "outputs": [
    {
     "data": {
      "text/html": [
       "<div>\n",
       "<style scoped>\n",
       "    .dataframe tbody tr th:only-of-type {\n",
       "        vertical-align: middle;\n",
       "    }\n",
       "\n",
       "    .dataframe tbody tr th {\n",
       "        vertical-align: top;\n",
       "    }\n",
       "\n",
       "    .dataframe thead th {\n",
       "        text-align: right;\n",
       "    }\n",
       "</style>\n",
       "<table border=\"1\" class=\"dataframe\">\n",
       "  <thead>\n",
       "    <tr style=\"text-align: right;\">\n",
       "      <th></th>\n",
       "      <th>isim</th>\n",
       "      <th>cinsiyet</th>\n",
       "      <th>maas</th>\n",
       "    </tr>\n",
       "  </thead>\n",
       "  <tbody>\n",
       "    <tr>\n",
       "      <th>1</th>\n",
       "      <td>ahmet</td>\n",
       "      <td>E</td>\n",
       "      <td>4500</td>\n",
       "    </tr>\n",
       "    <tr>\n",
       "      <th>3</th>\n",
       "      <td>ayşe</td>\n",
       "      <td>K</td>\n",
       "      <td>4000</td>\n",
       "    </tr>\n",
       "    <tr>\n",
       "      <th>4</th>\n",
       "      <td>selin</td>\n",
       "      <td>K</td>\n",
       "      <td>5500</td>\n",
       "    </tr>\n",
       "  </tbody>\n",
       "</table>\n",
       "</div>"
      ],
      "text/plain": [
       "    isim cinsiyet  maas\n",
       "1  ahmet        E  4500\n",
       "3   ayşe        K  4000\n",
       "4  selin        K  5500"
      ]
     },
     "execution_count": 37,
     "metadata": {},
     "output_type": "execute_result"
    }
   ],
   "source": [
    "#Maaşı 3500 den yüksek olan kişilerin isimlerini, cinsiyetlerini ve maaslarını getiriniz.\n",
    "\n",
    "df.loc[df['maas'] > 3500, ['isim', 'cinsiyet', 'maas']]"
   ]
  },
  {
   "cell_type": "markdown",
   "id": "93fa04b2",
   "metadata": {},
   "source": [
    "- **Eşittir**: ==\n",
    "- **Eşit Değildir**: !=\n",
    "- **Ve**: &\n",
    "- **Veya**: |\n",
    "- **Büyüktür, küçüktür:** <, >\n",
    "- **Büyük eşit, küçük eşittir:** <=, >="
   ]
  },
  {
   "cell_type": "code",
   "execution_count": 38,
   "id": "d1e64edb",
   "metadata": {},
   "outputs": [
    {
     "data": {
      "text/html": [
       "<div>\n",
       "<style scoped>\n",
       "    .dataframe tbody tr th:only-of-type {\n",
       "        vertical-align: middle;\n",
       "    }\n",
       "\n",
       "    .dataframe tbody tr th {\n",
       "        vertical-align: top;\n",
       "    }\n",
       "\n",
       "    .dataframe thead th {\n",
       "        text-align: right;\n",
       "    }\n",
       "</style>\n",
       "<table border=\"1\" class=\"dataframe\">\n",
       "  <thead>\n",
       "    <tr style=\"text-align: right;\">\n",
       "      <th></th>\n",
       "      <th>isim</th>\n",
       "      <th>yas</th>\n",
       "      <th>cinsiyet</th>\n",
       "      <th>maas</th>\n",
       "      <th>sehir</th>\n",
       "    </tr>\n",
       "  </thead>\n",
       "  <tbody>\n",
       "    <tr>\n",
       "      <th>1</th>\n",
       "      <td>ahmet</td>\n",
       "      <td>25</td>\n",
       "      <td>E</td>\n",
       "      <td>4500</td>\n",
       "      <td>istanbul</td>\n",
       "    </tr>\n",
       "  </tbody>\n",
       "</table>\n",
       "</div>"
      ],
      "text/plain": [
       "    isim  yas cinsiyet  maas     sehir\n",
       "1  ahmet   25        E  4500  istanbul"
      ]
     },
     "execution_count": 38,
     "metadata": {},
     "output_type": "execute_result"
    }
   ],
   "source": [
    "#Çoklu Koşul\n",
    "\n",
    "df.loc[(df['maas'] > 3500) & (df['cinsiyet'] == 'E')]"
   ]
  },
  {
   "cell_type": "code",
   "execution_count": 39,
   "id": "7db21816",
   "metadata": {},
   "outputs": [
    {
     "data": {
      "text/html": [
       "<div>\n",
       "<style scoped>\n",
       "    .dataframe tbody tr th:only-of-type {\n",
       "        vertical-align: middle;\n",
       "    }\n",
       "\n",
       "    .dataframe tbody tr th {\n",
       "        vertical-align: top;\n",
       "    }\n",
       "\n",
       "    .dataframe thead th {\n",
       "        text-align: right;\n",
       "    }\n",
       "</style>\n",
       "<table border=\"1\" class=\"dataframe\">\n",
       "  <thead>\n",
       "    <tr style=\"text-align: right;\">\n",
       "      <th></th>\n",
       "      <th>isim</th>\n",
       "      <th>yas</th>\n",
       "      <th>cinsiyet</th>\n",
       "      <th>maas</th>\n",
       "      <th>sehir</th>\n",
       "    </tr>\n",
       "  </thead>\n",
       "  <tbody>\n",
       "    <tr>\n",
       "      <th>0</th>\n",
       "      <td>sercan</td>\n",
       "      <td>24</td>\n",
       "      <td>E</td>\n",
       "      <td>3000</td>\n",
       "      <td>istanbul</td>\n",
       "    </tr>\n",
       "    <tr>\n",
       "      <th>1</th>\n",
       "      <td>ahmet</td>\n",
       "      <td>25</td>\n",
       "      <td>E</td>\n",
       "      <td>4500</td>\n",
       "      <td>istanbul</td>\n",
       "    </tr>\n",
       "  </tbody>\n",
       "</table>\n",
       "</div>"
      ],
      "text/plain": [
       "     isim  yas cinsiyet  maas     sehir\n",
       "0  sercan   24        E  3000  istanbul\n",
       "1   ahmet   25        E  4500  istanbul"
      ]
     },
     "execution_count": 39,
     "metadata": {},
     "output_type": "execute_result"
    }
   ],
   "source": [
    "# İstanbulda yaşayan erkekleri getiriniz.\n",
    "\n",
    "df.loc[(df['sehir'] == 'istanbul') & (df['cinsiyet'] == 'E')]"
   ]
  },
  {
   "cell_type": "code",
   "execution_count": 40,
   "id": "af2adea1",
   "metadata": {},
   "outputs": [
    {
     "data": {
      "text/html": [
       "<div>\n",
       "<style scoped>\n",
       "    .dataframe tbody tr th:only-of-type {\n",
       "        vertical-align: middle;\n",
       "    }\n",
       "\n",
       "    .dataframe tbody tr th {\n",
       "        vertical-align: top;\n",
       "    }\n",
       "\n",
       "    .dataframe thead th {\n",
       "        text-align: right;\n",
       "    }\n",
       "</style>\n",
       "<table border=\"1\" class=\"dataframe\">\n",
       "  <thead>\n",
       "    <tr style=\"text-align: right;\">\n",
       "      <th></th>\n",
       "      <th>isim</th>\n",
       "      <th>yas</th>\n",
       "      <th>cinsiyet</th>\n",
       "      <th>maas</th>\n",
       "      <th>sehir</th>\n",
       "    </tr>\n",
       "  </thead>\n",
       "  <tbody>\n",
       "    <tr>\n",
       "      <th>0</th>\n",
       "      <td>sercan</td>\n",
       "      <td>24</td>\n",
       "      <td>E</td>\n",
       "      <td>3000</td>\n",
       "      <td>istanbul</td>\n",
       "    </tr>\n",
       "    <tr>\n",
       "      <th>1</th>\n",
       "      <td>ahmet</td>\n",
       "      <td>25</td>\n",
       "      <td>E</td>\n",
       "      <td>4500</td>\n",
       "      <td>istanbul</td>\n",
       "    </tr>\n",
       "    <tr>\n",
       "      <th>2</th>\n",
       "      <td>mehmet</td>\n",
       "      <td>26</td>\n",
       "      <td>E</td>\n",
       "      <td>3500</td>\n",
       "      <td>ankara</td>\n",
       "    </tr>\n",
       "    <tr>\n",
       "      <th>3</th>\n",
       "      <td>ayşe</td>\n",
       "      <td>27</td>\n",
       "      <td>K</td>\n",
       "      <td>4000</td>\n",
       "      <td>izmir</td>\n",
       "    </tr>\n",
       "    <tr>\n",
       "      <th>4</th>\n",
       "      <td>selin</td>\n",
       "      <td>28</td>\n",
       "      <td>K</td>\n",
       "      <td>5500</td>\n",
       "      <td>istanbul</td>\n",
       "    </tr>\n",
       "    <tr>\n",
       "      <th>5</th>\n",
       "      <td>ceren</td>\n",
       "      <td>29</td>\n",
       "      <td>K</td>\n",
       "      <td>3500</td>\n",
       "      <td>ankara</td>\n",
       "    </tr>\n",
       "  </tbody>\n",
       "</table>\n",
       "</div>"
      ],
      "text/plain": [
       "     isim  yas cinsiyet  maas     sehir\n",
       "0  sercan   24        E  3000  istanbul\n",
       "1   ahmet   25        E  4500  istanbul\n",
       "2  mehmet   26        E  3500    ankara\n",
       "3    ayşe   27        K  4000     izmir\n",
       "4   selin   28        K  5500  istanbul\n",
       "5   ceren   29        K  3500    ankara"
      ]
     },
     "execution_count": 40,
     "metadata": {},
     "output_type": "execute_result"
    }
   ],
   "source": [
    "df"
   ]
  },
  {
   "cell_type": "code",
   "execution_count": 41,
   "id": "789f8875",
   "metadata": {},
   "outputs": [
    {
     "data": {
      "text/plain": [
       "3500"
      ]
     },
     "execution_count": 41,
     "metadata": {},
     "output_type": "execute_result"
    }
   ],
   "source": [
    "# Iloc ile 2. satır ve 3. sütundaki değeri getiriniz\n",
    "df.iloc[2, 3]"
   ]
  },
  {
   "cell_type": "code",
   "execution_count": 42,
   "id": "84fecdcd",
   "metadata": {},
   "outputs": [
    {
     "data": {
      "text/plain": [
       "isim         ayşe\n",
       "yas            27\n",
       "cinsiyet        K\n",
       "maas         4000\n",
       "sehir       izmir\n",
       "Name: 3, dtype: object"
      ]
     },
     "execution_count": 42,
     "metadata": {},
     "output_type": "execute_result"
    }
   ],
   "source": [
    "# Iloc ile 3.satırdaki değerleri getiriniz\n",
    "df.iloc[3]"
   ]
  },
  {
   "cell_type": "code",
   "execution_count": 43,
   "id": "0fb316ff",
   "metadata": {},
   "outputs": [
    {
     "data": {
      "text/html": [
       "<div>\n",
       "<style scoped>\n",
       "    .dataframe tbody tr th:only-of-type {\n",
       "        vertical-align: middle;\n",
       "    }\n",
       "\n",
       "    .dataframe tbody tr th {\n",
       "        vertical-align: top;\n",
       "    }\n",
       "\n",
       "    .dataframe thead th {\n",
       "        text-align: right;\n",
       "    }\n",
       "</style>\n",
       "<table border=\"1\" class=\"dataframe\">\n",
       "  <thead>\n",
       "    <tr style=\"text-align: right;\">\n",
       "      <th></th>\n",
       "      <th>isim</th>\n",
       "      <th>yas</th>\n",
       "      <th>cinsiyet</th>\n",
       "      <th>maas</th>\n",
       "      <th>sehir</th>\n",
       "    </tr>\n",
       "  </thead>\n",
       "  <tbody>\n",
       "    <tr>\n",
       "      <th>2</th>\n",
       "      <td>mehmet</td>\n",
       "      <td>26</td>\n",
       "      <td>E</td>\n",
       "      <td>3500</td>\n",
       "      <td>ankara</td>\n",
       "    </tr>\n",
       "    <tr>\n",
       "      <th>3</th>\n",
       "      <td>ayşe</td>\n",
       "      <td>27</td>\n",
       "      <td>K</td>\n",
       "      <td>4000</td>\n",
       "      <td>izmir</td>\n",
       "    </tr>\n",
       "  </tbody>\n",
       "</table>\n",
       "</div>"
      ],
      "text/plain": [
       "     isim  yas cinsiyet  maas   sehir\n",
       "2  mehmet   26        E  3500  ankara\n",
       "3    ayşe   27        K  4000   izmir"
      ]
     },
     "execution_count": 43,
     "metadata": {},
     "output_type": "execute_result"
    }
   ],
   "source": [
    "#Iloc ile 2. ve 4. satır arasındaki değerleri getiriniz\n",
    "df.iloc[2:4]"
   ]
  },
  {
   "cell_type": "code",
   "execution_count": 44,
   "id": "48350e64",
   "metadata": {},
   "outputs": [
    {
     "data": {
      "text/plain": [
       "2    3500\n",
       "3    4000\n",
       "Name: maas, dtype: int64"
      ]
     },
     "execution_count": 44,
     "metadata": {},
     "output_type": "execute_result"
    }
   ],
   "source": [
    "#Iloc ile 2. ve 4. satır arasındaki 3. sütunu getiriniz\n",
    "df.iloc[2:4, 3]"
   ]
  },
  {
   "cell_type": "markdown",
   "id": "3e36b1b6",
   "metadata": {},
   "source": [
    "# Alıştırma 1\n",
    "\n",
    "5 elemanlı sayılardan oluşan bir Pandas serisi oluşturunuz."
   ]
  },
  {
   "cell_type": "code",
   "execution_count": null,
   "id": "eaf08aa2",
   "metadata": {},
   "outputs": [],
   "source": []
  },
  {
   "cell_type": "markdown",
   "id": "f005ae66",
   "metadata": {},
   "source": [
    "# Alıştırma 2\n",
    "Oluşturduğunuz Pandas serisini büyükten küçüğe sıralayınız."
   ]
  },
  {
   "cell_type": "code",
   "execution_count": null,
   "id": "9c48f96f",
   "metadata": {},
   "outputs": [],
   "source": []
  },
  {
   "cell_type": "markdown",
   "id": "0ef200ce",
   "metadata": {},
   "source": [
    "# Alıştırma 3\n",
    "\n",
    "Aşağıdaki veri setinin ilk 5 ve son 5 gözlemine bakınız, istatistiksel özet tablosunu çıkartınız."
   ]
  },
  {
   "cell_type": "code",
   "execution_count": null,
   "id": "f26417e9",
   "metadata": {},
   "outputs": [],
   "source": []
  },
  {
   "cell_type": "code",
   "execution_count": null,
   "id": "0eb37561",
   "metadata": {},
   "outputs": [],
   "source": []
  },
  {
   "cell_type": "code",
   "execution_count": null,
   "id": "381636b7",
   "metadata": {},
   "outputs": [],
   "source": []
  },
  {
   "cell_type": "code",
   "execution_count": null,
   "id": "822d544c",
   "metadata": {},
   "outputs": [],
   "source": []
  },
  {
   "cell_type": "markdown",
   "id": "2a3feb7e",
   "metadata": {},
   "source": [
    "# Alıştırma 4\n",
    "\n",
    "Veri setini yaşlara göre azalan ve artan şekilde sıralayınız."
   ]
  },
  {
   "cell_type": "code",
   "execution_count": null,
   "id": "c7d1cd2c",
   "metadata": {},
   "outputs": [],
   "source": []
  },
  {
   "cell_type": "code",
   "execution_count": null,
   "id": "b1691c35",
   "metadata": {},
   "outputs": [],
   "source": []
  },
  {
   "cell_type": "markdown",
   "id": "71808e22",
   "metadata": {},
   "source": [
    "# Alıştırma 5\n",
    "\n",
    "İstanbulda yaşayan kişileri getiriniz."
   ]
  },
  {
   "cell_type": "code",
   "execution_count": null,
   "id": "9742e632",
   "metadata": {},
   "outputs": [],
   "source": []
  },
  {
   "cell_type": "markdown",
   "id": "e3240953",
   "metadata": {},
   "source": [
    "# Alıştırma 6\n",
    "\n",
    "Cinsiyeti erkek olan ve Ankarada yaşayan kişileri getiriniz."
   ]
  },
  {
   "cell_type": "code",
   "execution_count": null,
   "id": "afb4493b",
   "metadata": {},
   "outputs": [],
   "source": []
  },
  {
   "cell_type": "markdown",
   "id": "5548e273",
   "metadata": {},
   "source": [
    "# Alıştırma 7\n",
    "\n",
    "Maaşlara 1000'er lira zam yapıp yeni_maas isimli bir sütun olarak veri setine kaydediniz."
   ]
  },
  {
   "cell_type": "code",
   "execution_count": null,
   "id": "8628dd81",
   "metadata": {},
   "outputs": [],
   "source": []
  },
  {
   "cell_type": "code",
   "execution_count": null,
   "id": "a4496987",
   "metadata": {},
   "outputs": [],
   "source": []
  },
  {
   "cell_type": "markdown",
   "id": "65300ad8",
   "metadata": {},
   "source": [
    "# Alıştırma 8\n",
    "\n",
    "Oluşan veri setini \"calisanlar\" ismiyle bir csv dosyası olarak kaydediniz. Pandas kütüphanesi yardımıyla kaydettiğiniz dosyayı okutunuz."
   ]
  },
  {
   "cell_type": "code",
   "execution_count": null,
   "id": "8569c5d6",
   "metadata": {},
   "outputs": [],
   "source": []
  },
  {
   "cell_type": "code",
   "execution_count": null,
   "id": "3c21d0bf",
   "metadata": {},
   "outputs": [],
   "source": []
  },
  {
   "cell_type": "markdown",
   "id": "82f3d7c4",
   "metadata": {},
   "source": [
    "# Kaynakça\n",
    "\n",
    "- https://medium.com/deep-learning-turkiye/adan-z-ye-pandas-tutoriali-ba%C5%9Flang%C4%B1%C3%A7-ve-orta-seviye-4edf0094e0d5#:~:text=Pandas%2C%20Python%20programlama%20dili%20i%C3%A7in,sonuca%20kolayca%20ula%C5%9Fmak%20i%C3%A7in%20kullan%C4%B1lmaktad%C4%B1r."
   ]
  }
 ],
 "metadata": {
  "kernelspec": {
   "display_name": "Python 3 (ipykernel)",
   "language": "python",
   "name": "python3"
  },
  "language_info": {
   "codemirror_mode": {
    "name": "ipython",
    "version": 3
   },
   "file_extension": ".py",
   "mimetype": "text/x-python",
   "name": "python",
   "nbconvert_exporter": "python",
   "pygments_lexer": "ipython3",
   "version": "3.9.13"
  }
 },
 "nbformat": 4,
 "nbformat_minor": 5
}
